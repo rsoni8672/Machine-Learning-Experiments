{
  "nbformat": 4,
  "nbformat_minor": 0,
  "metadata": {
    "colab": {
      "name": "ML.Expt.08.ipynb",
      "provenance": []
    },
    "kernelspec": {
      "name": "python3",
      "display_name": "Python 3"
    }
  },
  "cells": [
    {
      "cell_type": "markdown",
      "metadata": {
        "id": "hZQxH5uga8yf",
        "colab_type": "text"
      },
      "source": [
        "\n",
        "Experiment No.08\n",
        "\n",
        "---\n",
        "Aim: To implement Classification using KNN.\n",
        "\n",
        "---\n",
        "\n",
        "**Objectives**\n",
        "\n",
        "\n",
        "1. Understand k nearest neighbor (KNN) and learn about KNN algorithm\n",
        "2.   To find the accurate value of k for which the error in the classificatio is the minimum.\n",
        "3.   To compare the results obtained.\n",
        " \n",
        "---\n",
        "\n",
        "**Theory**\n",
        "\n",
        "K nearest neighbors is a simple algorithm that stores all available cases and classifies new cases based on a similarity measure (e.g., distance functions). \n",
        "\n",
        "KNN has been used in statistical estimation and pattern recognition already in the beginning of 1970's as a non-parametric technique Algorithm.\n",
        "\n",
        "\n",
        "KNN can be used for both classification and regression predictive problems. However, it is more widely used in classification problems in the industry.\n",
        "\n",
        "\n",
        " ---\n",
        "\n",
        " \n",
        "**Dataset**\n",
        "\n",
        "To implement the KNN classification algorithm I have used the Pima Indians Diabetes Dataset that finds whether a human is suffering from diabetes or not.\n",
        "\n",
        "\n",
        "The classification is based on the following Biological parameters.\n",
        "1.   Glucose\n",
        "2. Blood Pressure\n",
        "3. SkinThickness\n",
        "4. Insulin \n",
        "5. BMI\n",
        "6. DiabetesPedigreeFunction\n",
        "7. Age\n",
        "8. Outcome(0 or 1) - Target Variable.\n",
        "\n",
        "Link to the dataset: https://raw.githubusercontent.com/jbrownlee/Datasets/master/pima-indians-diabetes.csv\n",
        "\n",
        "\n",
        "It is a binary (2-class) classification problem.\n",
        "\n",
        "The number of observations for each class is not balanced. \n",
        "\n",
        "There are 768 observations with 8 input variables and 1 output variable.\n",
        "\n",
        "Missing values are believed to be encoded with zero values. The variable names are as follows:\n",
        "\n",
        "\n"
      ]
    },
    {
      "cell_type": "code",
      "metadata": {
        "id": "piYa61ocDeef",
        "colab_type": "code",
        "colab": {}
      },
      "source": [
        "import numpy as np\n",
        "import pandas as pd"
      ],
      "execution_count": 0,
      "outputs": []
    },
    {
      "cell_type": "code",
      "metadata": {
        "id": "LO4DuU6WEO_w",
        "colab_type": "code",
        "colab": {}
      },
      "source": [
        "df = pd.read_csv('diabetes.csv')"
      ],
      "execution_count": 0,
      "outputs": []
    },
    {
      "cell_type": "markdown",
      "metadata": {
        "id": "kChjW2MPgNa2",
        "colab_type": "text"
      },
      "source": [
        "We import the required libraries and create a Data Frame from the dataset."
      ]
    },
    {
      "cell_type": "code",
      "metadata": {
        "id": "4-_wuQOuEYHU",
        "colab_type": "code",
        "colab": {
          "base_uri": "https://localhost:8080/",
          "height": 191
        },
        "outputId": "e3deccc6-a18f-4292-a088-0a8dd6a22a8b"
      },
      "source": [
        "df.head(5)"
      ],
      "execution_count": 20,
      "outputs": [
        {
          "output_type": "execute_result",
          "data": {
            "text/html": [
              "<div>\n",
              "<style scoped>\n",
              "    .dataframe tbody tr th:only-of-type {\n",
              "        vertical-align: middle;\n",
              "    }\n",
              "\n",
              "    .dataframe tbody tr th {\n",
              "        vertical-align: top;\n",
              "    }\n",
              "\n",
              "    .dataframe thead th {\n",
              "        text-align: right;\n",
              "    }\n",
              "</style>\n",
              "<table border=\"1\" class=\"dataframe\">\n",
              "  <thead>\n",
              "    <tr style=\"text-align: right;\">\n",
              "      <th></th>\n",
              "      <th>Pregnancies</th>\n",
              "      <th>Glucose</th>\n",
              "      <th>BloodPressure</th>\n",
              "      <th>SkinThickness</th>\n",
              "      <th>Insulin</th>\n",
              "      <th>BMI</th>\n",
              "      <th>DiabetesPedigreeFunction</th>\n",
              "      <th>Age</th>\n",
              "      <th>Outcome</th>\n",
              "    </tr>\n",
              "  </thead>\n",
              "  <tbody>\n",
              "    <tr>\n",
              "      <th>0</th>\n",
              "      <td>6</td>\n",
              "      <td>148</td>\n",
              "      <td>72</td>\n",
              "      <td>35</td>\n",
              "      <td>0</td>\n",
              "      <td>33.6</td>\n",
              "      <td>0.627</td>\n",
              "      <td>50</td>\n",
              "      <td>1</td>\n",
              "    </tr>\n",
              "    <tr>\n",
              "      <th>1</th>\n",
              "      <td>1</td>\n",
              "      <td>85</td>\n",
              "      <td>66</td>\n",
              "      <td>29</td>\n",
              "      <td>0</td>\n",
              "      <td>26.6</td>\n",
              "      <td>0.351</td>\n",
              "      <td>31</td>\n",
              "      <td>0</td>\n",
              "    </tr>\n",
              "    <tr>\n",
              "      <th>2</th>\n",
              "      <td>8</td>\n",
              "      <td>183</td>\n",
              "      <td>64</td>\n",
              "      <td>0</td>\n",
              "      <td>0</td>\n",
              "      <td>23.3</td>\n",
              "      <td>0.672</td>\n",
              "      <td>32</td>\n",
              "      <td>1</td>\n",
              "    </tr>\n",
              "    <tr>\n",
              "      <th>3</th>\n",
              "      <td>1</td>\n",
              "      <td>89</td>\n",
              "      <td>66</td>\n",
              "      <td>23</td>\n",
              "      <td>94</td>\n",
              "      <td>28.1</td>\n",
              "      <td>0.167</td>\n",
              "      <td>21</td>\n",
              "      <td>0</td>\n",
              "    </tr>\n",
              "    <tr>\n",
              "      <th>4</th>\n",
              "      <td>0</td>\n",
              "      <td>137</td>\n",
              "      <td>40</td>\n",
              "      <td>35</td>\n",
              "      <td>168</td>\n",
              "      <td>43.1</td>\n",
              "      <td>2.288</td>\n",
              "      <td>33</td>\n",
              "      <td>1</td>\n",
              "    </tr>\n",
              "  </tbody>\n",
              "</table>\n",
              "</div>"
            ],
            "text/plain": [
              "   Pregnancies  Glucose  BloodPressure  ...  DiabetesPedigreeFunction  Age  Outcome\n",
              "0            6      148             72  ...                     0.627   50        1\n",
              "1            1       85             66  ...                     0.351   31        0\n",
              "2            8      183             64  ...                     0.672   32        1\n",
              "3            1       89             66  ...                     0.167   21        0\n",
              "4            0      137             40  ...                     2.288   33        1\n",
              "\n",
              "[5 rows x 9 columns]"
            ]
          },
          "metadata": {
            "tags": []
          },
          "execution_count": 20
        }
      ]
    },
    {
      "cell_type": "code",
      "metadata": {
        "id": "res_ESJPEZbr",
        "colab_type": "code",
        "colab": {
          "base_uri": "https://localhost:8080/",
          "height": 66
        },
        "outputId": "d68db385-6bea-4320-be84-bc27dad138ce"
      },
      "source": [
        "df.columns"
      ],
      "execution_count": 21,
      "outputs": [
        {
          "output_type": "execute_result",
          "data": {
            "text/plain": [
              "Index(['Pregnancies', 'Glucose', 'BloodPressure', 'SkinThickness', 'Insulin',\n",
              "       'BMI', 'DiabetesPedigreeFunction', 'Age', 'Outcome'],\n",
              "      dtype='object')"
            ]
          },
          "metadata": {
            "tags": []
          },
          "execution_count": 21
        }
      ]
    },
    {
      "cell_type": "markdown",
      "metadata": {
        "id": "_wABQqVjjjGl",
        "colab_type": "text"
      },
      "source": [
        "The above output is the list of all the attributes present in the dataset out of which Outcome is the target variable and the remaining are the deciding parameters."
      ]
    },
    {
      "cell_type": "markdown",
      "metadata": {
        "id": "PVJFaw_zkBbY",
        "colab_type": "text"
      },
      "source": [
        "We scale the entire dataset before we pass it to the KNN model. \n",
        "Many machine learning algorithms work better when features are on a relatively similar scale and close to normally distributed.\n",
        "\n",
        " MinMaxScaler, RobustScaler, StandardScaler, and Normalizer are scikit-learn methods to preprocess data for machine learning.\n",
        "\n",
        "StandardScaler standardizes a feature by subtracting the mean and then scaling to unit variance. \n",
        "\n",
        "Unit variance means dividing all the values by the standard deviation. \n",
        "StandardScaler does not meet the strict definition of scale I introduced earlier.\n",
        "\n",
        "StandardScaler results in a distribution with a standard deviation equal to 1. The variance is equal to 1 also, because variance = standard deviation squared. And 1 squared = 1.\n",
        "\n",
        "StandardScaler makes the mean of the distribution 0. About 68% of the values will lie be between -1 and 1."
      ]
    },
    {
      "cell_type": "code",
      "metadata": {
        "id": "8cNIDibWFl5W",
        "colab_type": "code",
        "colab": {}
      },
      "source": [
        "from sklearn.preprocessing import  StandardScaler"
      ],
      "execution_count": 0,
      "outputs": []
    },
    {
      "cell_type": "code",
      "metadata": {
        "id": "2FpAzRULOLyb",
        "colab_type": "code",
        "colab": {
          "base_uri": "https://localhost:8080/",
          "height": 33
        },
        "outputId": "7be1ab40-9d88-41d4-ce10-27cdae8aa7a0"
      },
      "source": [
        "scaler = StandardScaler()\n",
        "scaler.fit(df.drop(\"Outcome\", axis= 1))\n",
        "scaled_data = scaler.transform(df.drop(\"Outcome\", axis= 1))\n",
        "type(scaled_data)"
      ],
      "execution_count": 25,
      "outputs": [
        {
          "output_type": "execute_result",
          "data": {
            "text/plain": [
              "numpy.ndarray"
            ]
          },
          "metadata": {
            "tags": []
          },
          "execution_count": 25
        }
      ]
    },
    {
      "cell_type": "code",
      "metadata": {
        "id": "2wXRNKH2Opcw",
        "colab_type": "code",
        "colab": {}
      },
      "source": [
        "scaled_df = pd.DataFrame(scaled_data , columns=['Pregnancies', 'Glucose', 'BloodPressure', 'SkinThickness', 'Insulin',\n",
        "       'BMI', 'DiabetesPedigreeFunction', 'Age'])"
      ],
      "execution_count": 0,
      "outputs": []
    },
    {
      "cell_type": "markdown",
      "metadata": {
        "id": "4L7rKlzHk055",
        "colab_type": "text"
      },
      "source": [
        "The values in the DataFrame after performing Standard Scaler are as follows. "
      ]
    },
    {
      "cell_type": "code",
      "metadata": {
        "id": "mk82ffOrQYjL",
        "colab_type": "code",
        "colab": {
          "base_uri": "https://localhost:8080/",
          "height": 191
        },
        "outputId": "a2946f99-576c-41dc-d1cc-ff803c355c65"
      },
      "source": [
        "scaled_df.head(5)"
      ],
      "execution_count": 27,
      "outputs": [
        {
          "output_type": "execute_result",
          "data": {
            "text/html": [
              "<div>\n",
              "<style scoped>\n",
              "    .dataframe tbody tr th:only-of-type {\n",
              "        vertical-align: middle;\n",
              "    }\n",
              "\n",
              "    .dataframe tbody tr th {\n",
              "        vertical-align: top;\n",
              "    }\n",
              "\n",
              "    .dataframe thead th {\n",
              "        text-align: right;\n",
              "    }\n",
              "</style>\n",
              "<table border=\"1\" class=\"dataframe\">\n",
              "  <thead>\n",
              "    <tr style=\"text-align: right;\">\n",
              "      <th></th>\n",
              "      <th>Pregnancies</th>\n",
              "      <th>Glucose</th>\n",
              "      <th>BloodPressure</th>\n",
              "      <th>SkinThickness</th>\n",
              "      <th>Insulin</th>\n",
              "      <th>BMI</th>\n",
              "      <th>DiabetesPedigreeFunction</th>\n",
              "      <th>Age</th>\n",
              "    </tr>\n",
              "  </thead>\n",
              "  <tbody>\n",
              "    <tr>\n",
              "      <th>0</th>\n",
              "      <td>0.639947</td>\n",
              "      <td>0.848324</td>\n",
              "      <td>0.149641</td>\n",
              "      <td>0.907270</td>\n",
              "      <td>-0.692891</td>\n",
              "      <td>0.204013</td>\n",
              "      <td>0.468492</td>\n",
              "      <td>1.425995</td>\n",
              "    </tr>\n",
              "    <tr>\n",
              "      <th>1</th>\n",
              "      <td>-0.844885</td>\n",
              "      <td>-1.123396</td>\n",
              "      <td>-0.160546</td>\n",
              "      <td>0.530902</td>\n",
              "      <td>-0.692891</td>\n",
              "      <td>-0.684422</td>\n",
              "      <td>-0.365061</td>\n",
              "      <td>-0.190672</td>\n",
              "    </tr>\n",
              "    <tr>\n",
              "      <th>2</th>\n",
              "      <td>1.233880</td>\n",
              "      <td>1.943724</td>\n",
              "      <td>-0.263941</td>\n",
              "      <td>-1.288212</td>\n",
              "      <td>-0.692891</td>\n",
              "      <td>-1.103255</td>\n",
              "      <td>0.604397</td>\n",
              "      <td>-0.105584</td>\n",
              "    </tr>\n",
              "    <tr>\n",
              "      <th>3</th>\n",
              "      <td>-0.844885</td>\n",
              "      <td>-0.998208</td>\n",
              "      <td>-0.160546</td>\n",
              "      <td>0.154533</td>\n",
              "      <td>0.123302</td>\n",
              "      <td>-0.494043</td>\n",
              "      <td>-0.920763</td>\n",
              "      <td>-1.041549</td>\n",
              "    </tr>\n",
              "    <tr>\n",
              "      <th>4</th>\n",
              "      <td>-1.141852</td>\n",
              "      <td>0.504055</td>\n",
              "      <td>-1.504687</td>\n",
              "      <td>0.907270</td>\n",
              "      <td>0.765836</td>\n",
              "      <td>1.409746</td>\n",
              "      <td>5.484909</td>\n",
              "      <td>-0.020496</td>\n",
              "    </tr>\n",
              "  </tbody>\n",
              "</table>\n",
              "</div>"
            ],
            "text/plain": [
              "   Pregnancies   Glucose  ...  DiabetesPedigreeFunction       Age\n",
              "0     0.639947  0.848324  ...                  0.468492  1.425995\n",
              "1    -0.844885 -1.123396  ...                 -0.365061 -0.190672\n",
              "2     1.233880  1.943724  ...                  0.604397 -0.105584\n",
              "3    -0.844885 -0.998208  ...                 -0.920763 -1.041549\n",
              "4    -1.141852  0.504055  ...                  5.484909 -0.020496\n",
              "\n",
              "[5 rows x 8 columns]"
            ]
          },
          "metadata": {
            "tags": []
          },
          "execution_count": 27
        }
      ]
    },
    {
      "cell_type": "markdown",
      "metadata": {
        "id": "Z-qucwsIlCK-",
        "colab_type": "text"
      },
      "source": [
        "We now Split the dataset into test data and train data using the train_test_split.\n",
        "And fit the model for the value of k = 1.\n",
        "And run the predictions and calculate the results for k= 1. "
      ]
    },
    {
      "cell_type": "code",
      "metadata": {
        "id": "N9gqnamYQaZM",
        "colab_type": "code",
        "colab": {}
      },
      "source": [
        "from sklearn.model_selection import train_test_split"
      ],
      "execution_count": 0,
      "outputs": []
    },
    {
      "cell_type": "code",
      "metadata": {
        "id": "MRGGkI2OQmr6",
        "colab_type": "code",
        "colab": {}
      },
      "source": [
        "X_train, X_test, y_train , y_test = train_test_split(scaled_df, df['Outcome'], test_size = 0.7 , random_state = 42)"
      ],
      "execution_count": 0,
      "outputs": []
    },
    {
      "cell_type": "code",
      "metadata": {
        "id": "Exss4HhfQzyW",
        "colab_type": "code",
        "colab": {}
      },
      "source": [
        "from sklearn.neighbors import KNeighborsClassifier"
      ],
      "execution_count": 0,
      "outputs": []
    },
    {
      "cell_type": "code",
      "metadata": {
        "id": "XuFmMVBORlcD",
        "colab_type": "code",
        "colab": {}
      },
      "source": [
        "knn  = KNeighborsClassifier(n_neighbors= 1)"
      ],
      "execution_count": 0,
      "outputs": []
    },
    {
      "cell_type": "code",
      "metadata": {
        "id": "HSHmjVICUtmM",
        "colab_type": "code",
        "colab": {
          "base_uri": "https://localhost:8080/",
          "height": 66
        },
        "outputId": "422e419f-7681-4cfc-88d5-f191253a7333"
      },
      "source": [
        "knn.fit(X_train, y_train)"
      ],
      "execution_count": 36,
      "outputs": [
        {
          "output_type": "execute_result",
          "data": {
            "text/plain": [
              "KNeighborsClassifier(algorithm='auto', leaf_size=30, metric='minkowski',\n",
              "                     metric_params=None, n_jobs=None, n_neighbors=5, p=2,\n",
              "                     weights='uniform')"
            ]
          },
          "metadata": {
            "tags": []
          },
          "execution_count": 36
        }
      ]
    },
    {
      "cell_type": "code",
      "metadata": {
        "id": "pQbQnVETU3T6",
        "colab_type": "code",
        "colab": {}
      },
      "source": [
        "pred  = knn.predict(X_test)"
      ],
      "execution_count": 0,
      "outputs": []
    },
    {
      "cell_type": "markdown",
      "metadata": {
        "id": "OjP5WecclZVe",
        "colab_type": "text"
      },
      "source": [
        "Following are the results obtained when the value of k is taken to be 1."
      ]
    },
    {
      "cell_type": "code",
      "metadata": {
        "id": "PrjnUEouU7Ci",
        "colab_type": "code",
        "colab": {}
      },
      "source": [
        "from sklearn.metrics import confusion_matrix, classification_report"
      ],
      "execution_count": 0,
      "outputs": []
    },
    {
      "cell_type": "code",
      "metadata": {
        "id": "g-DUJMAMVFz3",
        "colab_type": "code",
        "colab": {
          "base_uri": "https://localhost:8080/",
          "height": 50
        },
        "outputId": "07ef2f52-72c7-4c76-9bcb-bb3e993257ec"
      },
      "source": [
        "confusion_matrix(y_test, pred)"
      ],
      "execution_count": 48,
      "outputs": [
        {
          "output_type": "execute_result",
          "data": {
            "text/plain": [
              "array([[300,  49],\n",
              "       [ 92,  97]])"
            ]
          },
          "metadata": {
            "tags": []
          },
          "execution_count": 48
        }
      ]
    },
    {
      "cell_type": "code",
      "metadata": {
        "id": "eAPvQNRiVODP",
        "colab_type": "code",
        "colab": {
          "base_uri": "https://localhost:8080/",
          "height": 163
        },
        "outputId": "532c0313-77c4-47ec-e49e-0ef278c0a56b"
      },
      "source": [
        "print(classification_report(y_test, pred))"
      ],
      "execution_count": 49,
      "outputs": [
        {
          "output_type": "stream",
          "text": [
            "              precision    recall  f1-score   support\n",
            "\n",
            "           0       0.77      0.86      0.81       349\n",
            "           1       0.66      0.51      0.58       189\n",
            "\n",
            "    accuracy                           0.74       538\n",
            "   macro avg       0.71      0.69      0.69       538\n",
            "weighted avg       0.73      0.74      0.73       538\n",
            "\n"
          ],
          "name": "stdout"
        }
      ]
    },
    {
      "cell_type": "markdown",
      "metadata": {
        "id": "ieLQs5hJll3Q",
        "colab_type": "text"
      },
      "source": [
        "To minimize the error rate in classifying the test data, what I have done is run the model in the loop and find the error rate for value of k in the range from 1 to 50."
      ]
    },
    {
      "cell_type": "code",
      "metadata": {
        "id": "-UDkgyJwVUrJ",
        "colab_type": "code",
        "colab": {}
      },
      "source": [
        "error_rate = []\n",
        "\n",
        "for i in range(1, 50):\n",
        "  knn  = KNeighborsClassifier(n_neighbors= i)\n",
        "  knn.fit(X_train, y_train)\n",
        "  pred  = knn.predict(X_test)\n",
        "  # print(\" For  k = \", i , \" Confusion Matrix and Classification Report are\")\n",
        "  # print(confusion_matrix(y_test, pred))\n",
        "  # print(classification_report(y_test, pred))\n",
        "  error_rate.append(np.mean(pred != y_test))\n",
        "  "
      ],
      "execution_count": 0,
      "outputs": []
    },
    {
      "cell_type": "code",
      "metadata": {
        "id": "3FJDsD0PWTrv",
        "colab_type": "code",
        "colab": {}
      },
      "source": [
        "import matplotlib.pyplot as plt"
      ],
      "execution_count": 0,
      "outputs": []
    },
    {
      "cell_type": "code",
      "metadata": {
        "id": "NKxGgHZoYh05",
        "colab_type": "code",
        "colab": {
          "base_uri": "https://localhost:8080/",
          "height": 420
        },
        "outputId": "f6ba1baf-2e2e-4288-c5b8-0da3c68aa91a"
      },
      "source": [
        "plt.figure(figsize=(20, 6))\n",
        "plt.plot(range(1,50) ,error_rate, color = 'blue' , \n",
        "         linestyle = 'dashed', marker = 'o', markerfacecolor = 'red', markersize = 10)\n",
        "plt.title('Error Rate vs K value')\n",
        "plt.xlabel('K')\n",
        "plt.ylabel('Error')"
      ],
      "execution_count": 69,
      "outputs": [
        {
          "output_type": "execute_result",
          "data": {
            "text/plain": [
              "Text(0, 0.5, 'Error')"
            ]
          },
          "metadata": {
            "tags": []
          },
          "execution_count": 69
        },
        {
          "output_type": "display_data",
          "data": {
            "image/png": "[encoded data removed]",
            "text/plain": [
              "<Figure size 1440x432 with 1 Axes>"
            ]
          },
          "metadata": {
            "tags": [],
            "needs_background": "light"
          }
        }
      ]
    },
    {
      "cell_type": "markdown",
      "metadata": {
        "id": "qCggYMEImI6r",
        "colab_type": "text"
      },
      "source": [
        "This is the graph of the varitations in the errors in the classificatiom with every unit change in the value of K. \n",
        "\n",
        "Here k is the independent variable and corresponding error is the dependent \n",
        "variable.\n",
        "\n",
        "Inferences from the above plot:\n",
        "\n",
        "Although the range of the error is very small(i.e from ~0.26 to ~0.35), it can be concluded that the error is minimum approximately between 0 to 10. "
      ]
    },
    {
      "cell_type": "markdown",
      "metadata": {
        "id": "hLcvcKj5nOSx",
        "colab_type": "text"
      },
      "source": [
        "Thus, the best results obtained are for k = 5.\n"
      ]
    },
    {
      "cell_type": "code",
      "metadata": {
        "id": "pDxB09xmYkWD",
        "colab_type": "code",
        "colab": {
          "base_uri": "https://localhost:8080/",
          "height": 212
        },
        "outputId": "b7243e21-9e7f-4ef6-c2a6-092a196c9ab5"
      },
      "source": [
        "  knn  = KNeighborsClassifier(n_neighbors= 5)\n",
        "  knn.fit(X_train, y_train)\n",
        "  pred  = knn.predict(X_test)\n",
        "  print(\" For  k = 5\", \" Confusion Matrix and Classification Report are\")\n",
        "  print(confusion_matrix(y_test, pred))\n",
        "  print(classification_report(y_test, pred))"
      ],
      "execution_count": 66,
      "outputs": [
        {
          "output_type": "stream",
          "text": [
            " For  k = 5  Confusion Matrix and Classification Report are\n",
            "[[300  49]\n",
            " [ 92  97]]\n",
            "              precision    recall  f1-score   support\n",
            "\n",
            "           0       0.77      0.86      0.81       349\n",
            "           1       0.66      0.51      0.58       189\n",
            "\n",
            "    accuracy                           0.74       538\n",
            "   macro avg       0.71      0.69      0.69       538\n",
            "weighted avg       0.73      0.74      0.73       538\n",
            "\n"
          ],
          "name": "stdout"
        }
      ]
    },
    {
      "cell_type": "markdown",
      "metadata": {
        "id": "z9DKtrmgoerC",
        "colab_type": "text"
      },
      "source": [
        "Thus, in the above experiment we have performed KNN classification on the Diabetes dataset.\n",
        "We first scaled the data before it was passed to the models.\n",
        "Also depending on the data, the accuracy may be improved by checking the output for different values of k and the value for which the error is minimum must be considered.\n",
        "  "
      ]
    },
    {
      "cell_type": "code",
      "metadata": {
        "id": "MX3ZuMsQarej",
        "colab_type": "code",
        "colab": {}
      },
      "source": [
        ""
      ],
      "execution_count": 0,
      "outputs": []
    }
  ]
}