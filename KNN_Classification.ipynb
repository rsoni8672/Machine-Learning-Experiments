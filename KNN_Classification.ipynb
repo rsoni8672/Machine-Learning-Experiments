{
  "nbformat": 4,
  "nbformat_minor": 0,
  "metadata": {
    "colab": {
      "name": "Ml.Expt.07.ipynb",
      "provenance": []
    },
    "kernelspec": {
      "name": "python3",
      "display_name": "Python 3"
    }
  },
  "cells": [
    {
      "cell_type": "markdown",
      "metadata": {
        "id": "SIZmTWgBnTvm",
        "colab_type": "text"
      },
      "source": [
        "**Experiment No.07**\n",
        "\n",
        "---\n",
        "\n",
        "**Aim:** To perform Classification on a DataSet. \n",
        "\n",
        "---\n",
        "\n",
        "\n",
        "**Objectives**\n",
        "1. To implement Classification on a dataset.\n",
        "\n",
        "---\n",
        "**Theory:**\n",
        "\n",
        "In machine learning and statistics, classification is the problem of identifying to which of a set of categories (sub-populations) a new observation belongs, on the basis of a training set of data containing observations (or instances) whose category membership is known. \n",
        "\n",
        "Examples are assigning a given email to the \"spam\" or \"non-spam\" class, and assigning a diagnosis to a given patient based on observed characteristics of the patient (sex, blood pressure, presence or absence of certain symptoms, etc.\n",
        "\n",
        "Classification is an example of pattern recognition.\n",
        "\n",
        "In the terminology of machine learning, classification is considered an instance of supervised learning, i.e., learning where a training set of correctly identified observations is available. The corresponding unsupervised procedure is known as clustering, and involves grouping data into categories based on some measure of inherent similarity or distance.\n",
        "\n",
        "\n",
        "Classification can be performed using various sklearn algorithms like KNN, SVM,  Decision Trees, Random Forests,etc.\n",
        "In this experiment, I have performed Support Vector machines to classify binary data.\n",
        "\n",
        "**Dataset**:\n",
        "Voice Gender\n",
        "Gender Recognition by Voice and Speech Analysis\n",
        "\n",
        "This database was created to identify a voice as male or female, based upon acoustic properties of the voice and speech. The dataset consists of 3,168 recorded voice samples, collected from male and female speakers. The voice samples are pre-processed by acoustic analysis in R using the seewave and tuneR packages, with an analyzed frequency range of 0hz-280hz (human vocal range).\n",
        "\n",
        "The following acoustic properties of each voice are measured and included within the CSV:\n",
        "\n",
        "meanfreq: mean frequency (in kHz)\n",
        "sd: standard deviation of frequency\n",
        "median: median frequency (in kHz)\n",
        "Q25: first quantile (in kHz)\n",
        "Q75: third quantile (in kHz)\n",
        "IQR: interquantile range (in kHz)\n",
        "skew: skewness (see note in specprop description)\n",
        "kurt: kurtosis (see note in specprop description)\n",
        "sp.ent: spectral entropy\n",
        "sfm: spectral flatness\n",
        "mode: mode frequency\n",
        "centroid: frequency centroid (see specprop)\n",
        "peakf: peak frequency (frequency with highest energy)\n",
        "meanfun: average of fundamental frequency measured across acoustic signal\n",
        "minfun: minimum fundamental frequency measured across acoustic signal\n",
        "maxfun: maximum fundamental frequency measured across acoustic signal\n",
        "meandom: average of dominant frequency measured across acoustic signal\n",
        "mindom: minimum of dominant frequency measured across acoustic signal\n",
        "maxdom: maximum of dominant frequency measured across acoustic signal\n",
        "dfrange: range of dominant frequency measured across acoustic signal\n",
        "modindx: modulation index. Calculated as the accumulated absolute difference between adjacent measurements of fundamental frequencies divided by the frequency range\n",
        "label: male or female\n",
        "\n",
        "The dataset is taken from : https://www.kaggle.com/primaryobjects/voicegender/download\n",
        "\n",
        "Detailed description of the dataset can be found on the above url."
      ]
    },
    {
      "cell_type": "code",
      "metadata": {
        "id": "5KWRRGf7K_jA",
        "colab_type": "code",
        "colab": {}
      },
      "source": [
        "import numpy as np\n",
        "import pandas as pd\n",
        "import matplotlib.pyplot as plt\n"
      ],
      "execution_count": 0,
      "outputs": []
    },
    {
      "cell_type": "code",
      "metadata": {
        "id": "qVKnEiCvLGJ3",
        "colab_type": "code",
        "colab": {}
      },
      "source": [
        "df = pd.read_csv('voice.csv')"
      ],
      "execution_count": 0,
      "outputs": []
    },
    {
      "cell_type": "code",
      "metadata": {
        "id": "m7RPP7qeLKrA",
        "colab_type": "code",
        "outputId": "c9914fd1-2b33-4ec6-d3a5-bcd1fe983adf",
        "colab": {
          "base_uri": "https://localhost:8080/",
          "height": 211
        }
      },
      "source": [
        "df.head(5)"
      ],
      "execution_count": 0,
      "outputs": [
        {
          "output_type": "execute_result",
          "data": {
            "text/html": [
              "<div>\n",
              "<style scoped>\n",
              "    .dataframe tbody tr th:only-of-type {\n",
              "        vertical-align: middle;\n",
              "    }\n",
              "\n",
              "    .dataframe tbody tr th {\n",
              "        vertical-align: top;\n",
              "    }\n",
              "\n",
              "    .dataframe thead th {\n",
              "        text-align: right;\n",
              "    }\n",
              "</style>\n",
              "<table border=\"1\" class=\"dataframe\">\n",
              "  <thead>\n",
              "    <tr style=\"text-align: right;\">\n",
              "      <th></th>\n",
              "      <th>meanfreq</th>\n",
              "      <th>sd</th>\n",
              "      <th>median</th>\n",
              "      <th>Q25</th>\n",
              "      <th>Q75</th>\n",
              "      <th>IQR</th>\n",
              "      <th>skew</th>\n",
              "      <th>kurt</th>\n",
              "      <th>sp.ent</th>\n",
              "      <th>sfm</th>\n",
              "      <th>mode</th>\n",
              "      <th>centroid</th>\n",
              "      <th>meanfun</th>\n",
              "      <th>minfun</th>\n",
              "      <th>maxfun</th>\n",
              "      <th>meandom</th>\n",
              "      <th>mindom</th>\n",
              "      <th>maxdom</th>\n",
              "      <th>dfrange</th>\n",
              "      <th>modindx</th>\n",
              "      <th>label</th>\n",
              "    </tr>\n",
              "  </thead>\n",
              "  <tbody>\n",
              "    <tr>\n",
              "      <th>0</th>\n",
              "      <td>0.059781</td>\n",
              "      <td>0.064241</td>\n",
              "      <td>0.032027</td>\n",
              "      <td>0.015071</td>\n",
              "      <td>0.090193</td>\n",
              "      <td>0.075122</td>\n",
              "      <td>12.863462</td>\n",
              "      <td>274.402906</td>\n",
              "      <td>0.893369</td>\n",
              "      <td>0.491918</td>\n",
              "      <td>0.000000</td>\n",
              "      <td>0.059781</td>\n",
              "      <td>0.084279</td>\n",
              "      <td>0.015702</td>\n",
              "      <td>0.275862</td>\n",
              "      <td>0.007812</td>\n",
              "      <td>0.007812</td>\n",
              "      <td>0.007812</td>\n",
              "      <td>0.000000</td>\n",
              "      <td>0.000000</td>\n",
              "      <td>male</td>\n",
              "    </tr>\n",
              "    <tr>\n",
              "      <th>1</th>\n",
              "      <td>0.066009</td>\n",
              "      <td>0.067310</td>\n",
              "      <td>0.040229</td>\n",
              "      <td>0.019414</td>\n",
              "      <td>0.092666</td>\n",
              "      <td>0.073252</td>\n",
              "      <td>22.423285</td>\n",
              "      <td>634.613855</td>\n",
              "      <td>0.892193</td>\n",
              "      <td>0.513724</td>\n",
              "      <td>0.000000</td>\n",
              "      <td>0.066009</td>\n",
              "      <td>0.107937</td>\n",
              "      <td>0.015826</td>\n",
              "      <td>0.250000</td>\n",
              "      <td>0.009014</td>\n",
              "      <td>0.007812</td>\n",
              "      <td>0.054688</td>\n",
              "      <td>0.046875</td>\n",
              "      <td>0.052632</td>\n",
              "      <td>male</td>\n",
              "    </tr>\n",
              "    <tr>\n",
              "      <th>2</th>\n",
              "      <td>0.077316</td>\n",
              "      <td>0.083829</td>\n",
              "      <td>0.036718</td>\n",
              "      <td>0.008701</td>\n",
              "      <td>0.131908</td>\n",
              "      <td>0.123207</td>\n",
              "      <td>30.757155</td>\n",
              "      <td>1024.927705</td>\n",
              "      <td>0.846389</td>\n",
              "      <td>0.478905</td>\n",
              "      <td>0.000000</td>\n",
              "      <td>0.077316</td>\n",
              "      <td>0.098706</td>\n",
              "      <td>0.015656</td>\n",
              "      <td>0.271186</td>\n",
              "      <td>0.007990</td>\n",
              "      <td>0.007812</td>\n",
              "      <td>0.015625</td>\n",
              "      <td>0.007812</td>\n",
              "      <td>0.046512</td>\n",
              "      <td>male</td>\n",
              "    </tr>\n",
              "    <tr>\n",
              "      <th>3</th>\n",
              "      <td>0.151228</td>\n",
              "      <td>0.072111</td>\n",
              "      <td>0.158011</td>\n",
              "      <td>0.096582</td>\n",
              "      <td>0.207955</td>\n",
              "      <td>0.111374</td>\n",
              "      <td>1.232831</td>\n",
              "      <td>4.177296</td>\n",
              "      <td>0.963322</td>\n",
              "      <td>0.727232</td>\n",
              "      <td>0.083878</td>\n",
              "      <td>0.151228</td>\n",
              "      <td>0.088965</td>\n",
              "      <td>0.017798</td>\n",
              "      <td>0.250000</td>\n",
              "      <td>0.201497</td>\n",
              "      <td>0.007812</td>\n",
              "      <td>0.562500</td>\n",
              "      <td>0.554688</td>\n",
              "      <td>0.247119</td>\n",
              "      <td>male</td>\n",
              "    </tr>\n",
              "    <tr>\n",
              "      <th>4</th>\n",
              "      <td>0.135120</td>\n",
              "      <td>0.079146</td>\n",
              "      <td>0.124656</td>\n",
              "      <td>0.078720</td>\n",
              "      <td>0.206045</td>\n",
              "      <td>0.127325</td>\n",
              "      <td>1.101174</td>\n",
              "      <td>4.333713</td>\n",
              "      <td>0.971955</td>\n",
              "      <td>0.783568</td>\n",
              "      <td>0.104261</td>\n",
              "      <td>0.135120</td>\n",
              "      <td>0.106398</td>\n",
              "      <td>0.016931</td>\n",
              "      <td>0.266667</td>\n",
              "      <td>0.712812</td>\n",
              "      <td>0.007812</td>\n",
              "      <td>5.484375</td>\n",
              "      <td>5.476562</td>\n",
              "      <td>0.208274</td>\n",
              "      <td>male</td>\n",
              "    </tr>\n",
              "  </tbody>\n",
              "</table>\n",
              "</div>"
            ],
            "text/plain": [
              "   meanfreq        sd    median       Q25  ...    maxdom   dfrange   modindx  label\n",
              "0  0.059781  0.064241  0.032027  0.015071  ...  0.007812  0.000000  0.000000   male\n",
              "1  0.066009  0.067310  0.040229  0.019414  ...  0.054688  0.046875  0.052632   male\n",
              "2  0.077316  0.083829  0.036718  0.008701  ...  0.015625  0.007812  0.046512   male\n",
              "3  0.151228  0.072111  0.158011  0.096582  ...  0.562500  0.554688  0.247119   male\n",
              "4  0.135120  0.079146  0.124656  0.078720  ...  5.484375  5.476562  0.208274   male\n",
              "\n",
              "[5 rows x 21 columns]"
            ]
          },
          "metadata": {
            "tags": []
          },
          "execution_count": 38
        }
      ]
    },
    {
      "cell_type": "markdown",
      "metadata": {
        "id": "WtCK-_C-qooE",
        "colab_type": "text"
      },
      "source": [
        "These are the sample tuples from the dataset.\n",
        "\n",
        "All the columns except the last one are the input to the dataset and the label column indicates whether the sound is a male sound or a female sound.\n",
        "\n"
      ]
    },
    {
      "cell_type": "code",
      "metadata": {
        "id": "DMaULgm5LOuO",
        "colab_type": "code",
        "outputId": "1d556810-1b55-47a4-ad62-dd675ef52f9f",
        "colab": {
          "base_uri": "https://localhost:8080/",
          "height": 82
        }
      },
      "source": [
        "print(df.columns)"
      ],
      "execution_count": 0,
      "outputs": [
        {
          "output_type": "stream",
          "text": [
            "Index(['meanfreq', 'sd', 'median', 'Q25', 'Q75', 'IQR', 'skew', 'kurt',\n",
            "       'sp.ent', 'sfm', 'mode', 'centroid', 'meanfun', 'minfun', 'maxfun',\n",
            "       'meandom', 'mindom', 'maxdom', 'dfrange', 'modindx', 'label'],\n",
            "      dtype='object')\n"
          ],
          "name": "stdout"
        }
      ]
    },
    {
      "cell_type": "markdown",
      "metadata": {
        "id": "U7ukreFVrM7b",
        "colab_type": "text"
      },
      "source": [
        "These are the attributes that are given to the model and the study about the data input is out of the scope of the wxperiment."
      ]
    },
    {
      "cell_type": "code",
      "metadata": {
        "id": "QhaXKTASLRSl",
        "colab_type": "code",
        "outputId": "1c60b8d2-e6e1-4394-b8b0-39c04c87b2b3",
        "colab": {
          "base_uri": "https://localhost:8080/",
          "height": 33
        }
      },
      "source": [
        "len(df)"
      ],
      "execution_count": 0,
      "outputs": [
        {
          "output_type": "execute_result",
          "data": {
            "text/plain": [
              "3168"
            ]
          },
          "metadata": {
            "tags": []
          },
          "execution_count": 42
        }
      ]
    },
    {
      "cell_type": "code",
      "metadata": {
        "id": "zm254jE2LW3T",
        "colab_type": "code",
        "colab": {}
      },
      "source": [
        "Y = df['label']\n",
        "Y.replace(0, 'male', inplace=True)\n",
        "Y.replace(1, 'female', inplace= True)"
      ],
      "execution_count": 0,
      "outputs": []
    },
    {
      "cell_type": "markdown",
      "metadata": {
        "id": "8yxBJRuCwAKK",
        "colab_type": "text"
      },
      "source": [
        "The above code input converts text data to numerical data.\n",
        "The only text data is the label i.e. male or female.\n",
        "It replaces male with value 0 and female with value 1."
      ]
    },
    {
      "cell_type": "code",
      "metadata": {
        "id": "FsNMlIBxLeqo",
        "colab_type": "code",
        "colab": {}
      },
      "source": [
        "df.drop(['label'], inplace=True, axis = 1)"
      ],
      "execution_count": 0,
      "outputs": []
    },
    {
      "cell_type": "code",
      "metadata": {
        "id": "Zk-hMD57L_ya",
        "colab_type": "code",
        "outputId": "12a43540-6875-4dbd-c74c-2fcc9618547b",
        "colab": {
          "base_uri": "https://localhost:8080/",
          "height": 33
        }
      },
      "source": [
        "from sklearn.preprocessing import StandardScaler\n",
        "scaler = StandardScaler()\n",
        "scaler.fit(df)\n",
        "scaled_data = scaler.transform(df)\n",
        "type(scaled_data)"
      ],
      "execution_count": 0,
      "outputs": [
        {
          "output_type": "execute_result",
          "data": {
            "text/plain": [
              "numpy.ndarray"
            ]
          },
          "metadata": {
            "tags": []
          },
          "execution_count": 47
        }
      ]
    },
    {
      "cell_type": "markdown",
      "metadata": {
        "id": "RpJe5z52wmpa",
        "colab_type": "text"
      },
      "source": [
        "We scale the entire dataset before we pass it to the KNN model. \n",
        "Many machine learning algorithms work better when features are on a relatively similar scale and close to normally distributed.\n",
        "\n",
        " MinMaxScaler, RobustScaler, StandardScaler, and Normalizer are scikit-learn methods to preprocess data for machine learning.\n",
        "\n",
        "StandardScaler standardizes a feature by subtracting the mean and then scaling to unit variance. \n",
        "\n",
        "Unit variance means dividing all the values by the standard deviation. \n",
        "StandardScaler does not meet the strict definition of scale I introduced earlier.\n",
        "\n",
        "StandardScaler results in a distribution with a standard deviation equal to 1. The variance is equal to 1 also, because variance = standard deviation squared. And 1 squared = 1.\n",
        "\n",
        "StandardScaler makes the mean of the distribution 0. About 68% of the values will lie be between -1 and 1."
      ]
    },
    {
      "cell_type": "code",
      "metadata": {
        "id": "2j3wSmAXNzf5",
        "colab_type": "code",
        "colab": {}
      },
      "source": [
        "scaled_df = pd.DataFrame(scaled_data)"
      ],
      "execution_count": 0,
      "outputs": []
    },
    {
      "cell_type": "markdown",
      "metadata": {
        "id": "jVsfw5eNwt1O",
        "colab_type": "text"
      },
      "source": [
        "The values in the DataFrame after performing Standard Scaler are as follows. "
      ]
    },
    {
      "cell_type": "code",
      "metadata": {
        "id": "wEGilR41N3ji",
        "colab_type": "code",
        "outputId": "18bb108f-0ded-4c36-f8ae-ddfd603b0e19",
        "colab": {
          "base_uri": "https://localhost:8080/",
          "height": 211
        }
      },
      "source": [
        "scaled_df.head(5)"
      ],
      "execution_count": 0,
      "outputs": [
        {
          "output_type": "execute_result",
          "data": {
            "text/html": [
              "<div>\n",
              "<style scoped>\n",
              "    .dataframe tbody tr th:only-of-type {\n",
              "        vertical-align: middle;\n",
              "    }\n",
              "\n",
              "    .dataframe tbody tr th {\n",
              "        vertical-align: top;\n",
              "    }\n",
              "\n",
              "    .dataframe thead th {\n",
              "        text-align: right;\n",
              "    }\n",
              "</style>\n",
              "<table border=\"1\" class=\"dataframe\">\n",
              "  <thead>\n",
              "    <tr style=\"text-align: right;\">\n",
              "      <th></th>\n",
              "      <th>0</th>\n",
              "      <th>1</th>\n",
              "      <th>2</th>\n",
              "      <th>3</th>\n",
              "      <th>4</th>\n",
              "      <th>5</th>\n",
              "      <th>6</th>\n",
              "      <th>7</th>\n",
              "      <th>8</th>\n",
              "      <th>9</th>\n",
              "      <th>10</th>\n",
              "      <th>11</th>\n",
              "      <th>12</th>\n",
              "      <th>13</th>\n",
              "      <th>14</th>\n",
              "      <th>15</th>\n",
              "      <th>16</th>\n",
              "      <th>17</th>\n",
              "      <th>18</th>\n",
              "      <th>19</th>\n",
              "    </tr>\n",
              "  </thead>\n",
              "  <tbody>\n",
              "    <tr>\n",
              "      <th>0</th>\n",
              "      <td>-4.049248</td>\n",
              "      <td>0.427355</td>\n",
              "      <td>-4.224901</td>\n",
              "      <td>-2.576102</td>\n",
              "      <td>-5.693607</td>\n",
              "      <td>-0.214778</td>\n",
              "      <td>2.293306</td>\n",
              "      <td>1.762946</td>\n",
              "      <td>-0.039083</td>\n",
              "      <td>0.471575</td>\n",
              "      <td>-2.141210</td>\n",
              "      <td>-4.049248</td>\n",
              "      <td>-1.812038</td>\n",
              "      <td>-1.097998</td>\n",
              "      <td>0.565959</td>\n",
              "      <td>-1.564205</td>\n",
              "      <td>-0.708404</td>\n",
              "      <td>-1.431422</td>\n",
              "      <td>-1.419137</td>\n",
              "      <td>-1.454772</td>\n",
              "    </tr>\n",
              "    <tr>\n",
              "      <th>1</th>\n",
              "      <td>-3.841053</td>\n",
              "      <td>0.611669</td>\n",
              "      <td>-3.999293</td>\n",
              "      <td>-2.486885</td>\n",
              "      <td>-5.588987</td>\n",
              "      <td>-0.258485</td>\n",
              "      <td>4.548056</td>\n",
              "      <td>4.433008</td>\n",
              "      <td>-0.065236</td>\n",
              "      <td>0.594431</td>\n",
              "      <td>-2.141210</td>\n",
              "      <td>-3.841053</td>\n",
              "      <td>-1.079594</td>\n",
              "      <td>-1.091533</td>\n",
              "      <td>-0.294030</td>\n",
              "      <td>-1.561916</td>\n",
              "      <td>-0.708404</td>\n",
              "      <td>-1.418107</td>\n",
              "      <td>-1.405818</td>\n",
              "      <td>-1.014103</td>\n",
              "    </tr>\n",
              "    <tr>\n",
              "      <th>2</th>\n",
              "      <td>-3.463066</td>\n",
              "      <td>1.603848</td>\n",
              "      <td>-4.095851</td>\n",
              "      <td>-2.706986</td>\n",
              "      <td>-3.928699</td>\n",
              "      <td>0.909326</td>\n",
              "      <td>6.513656</td>\n",
              "      <td>7.326207</td>\n",
              "      <td>-1.083730</td>\n",
              "      <td>0.398261</td>\n",
              "      <td>-2.141210</td>\n",
              "      <td>-3.463066</td>\n",
              "      <td>-1.365368</td>\n",
              "      <td>-1.100397</td>\n",
              "      <td>0.410480</td>\n",
              "      <td>-1.563866</td>\n",
              "      <td>-0.708404</td>\n",
              "      <td>-1.429203</td>\n",
              "      <td>-1.416917</td>\n",
              "      <td>-1.065344</td>\n",
              "    </tr>\n",
              "    <tr>\n",
              "      <th>3</th>\n",
              "      <td>-0.992157</td>\n",
              "      <td>0.899998</td>\n",
              "      <td>-0.759454</td>\n",
              "      <td>-0.901418</td>\n",
              "      <td>-0.711205</td>\n",
              "      <td>0.632690</td>\n",
              "      <td>-0.449858</td>\n",
              "      <td>-0.240099</td>\n",
              "      <td>1.516383</td>\n",
              "      <td>1.797340</td>\n",
              "      <td>-1.054576</td>\n",
              "      <td>-0.992157</td>\n",
              "      <td>-1.666966</td>\n",
              "      <td>-0.988934</td>\n",
              "      <td>-0.294030</td>\n",
              "      <td>-1.195367</td>\n",
              "      <td>-0.708404</td>\n",
              "      <td>-1.273867</td>\n",
              "      <td>-1.261532</td>\n",
              "      <td>0.614286</td>\n",
              "    </tr>\n",
              "    <tr>\n",
              "      <th>4</th>\n",
              "      <td>-1.530640</td>\n",
              "      <td>1.322561</td>\n",
              "      <td>-1.676948</td>\n",
              "      <td>-1.268395</td>\n",
              "      <td>-0.792029</td>\n",
              "      <td>1.005588</td>\n",
              "      <td>-0.480911</td>\n",
              "      <td>-0.238940</td>\n",
              "      <td>1.708336</td>\n",
              "      <td>2.114740</td>\n",
              "      <td>-0.790514</td>\n",
              "      <td>-1.530640</td>\n",
              "      <td>-1.127233</td>\n",
              "      <td>-1.034015</td>\n",
              "      <td>0.260185</td>\n",
              "      <td>-0.221660</td>\n",
              "      <td>-0.708404</td>\n",
              "      <td>0.124154</td>\n",
              "      <td>0.136933</td>\n",
              "      <td>0.289046</td>\n",
              "    </tr>\n",
              "  </tbody>\n",
              "</table>\n",
              "</div>"
            ],
            "text/plain": [
              "         0         1         2   ...        17        18        19\n",
              "0 -4.049248  0.427355 -4.224901  ... -1.431422 -1.419137 -1.454772\n",
              "1 -3.841053  0.611669 -3.999293  ... -1.418107 -1.405818 -1.014103\n",
              "2 -3.463066  1.603848 -4.095851  ... -1.429203 -1.416917 -1.065344\n",
              "3 -0.992157  0.899998 -0.759454  ... -1.273867 -1.261532  0.614286\n",
              "4 -1.530640  1.322561 -1.676948  ...  0.124154  0.136933  0.289046\n",
              "\n",
              "[5 rows x 20 columns]"
            ]
          },
          "metadata": {
            "tags": []
          },
          "execution_count": 49
        }
      ]
    },
    {
      "cell_type": "markdown",
      "metadata": {
        "id": "63_XonKDwwER",
        "colab_type": "text"
      },
      "source": [
        "We now Split the dataset into test data and train data using the train_test_split. And pass the training data to the Support Vector classifier."
      ]
    },
    {
      "cell_type": "code",
      "metadata": {
        "id": "9mSfcu-YN8KN",
        "colab_type": "code",
        "colab": {}
      },
      "source": [
        "from sklearn.model_selection import train_test_split"
      ],
      "execution_count": 0,
      "outputs": []
    },
    {
      "cell_type": "code",
      "metadata": {
        "id": "ulpNx6E0ODqr",
        "colab_type": "code",
        "colab": {}
      },
      "source": [
        "X_train, X_test, y_train, y_test = train_test_split(scaled_df, Y, test_size  = 0.7 , random_state = 42)"
      ],
      "execution_count": 0,
      "outputs": []
    },
    {
      "cell_type": "code",
      "metadata": {
        "id": "cTBPD-dLOOx-",
        "colab_type": "code",
        "colab": {}
      },
      "source": [
        "from sklearn.svm import SVC"
      ],
      "execution_count": 0,
      "outputs": []
    },
    {
      "cell_type": "code",
      "metadata": {
        "id": "yg9n5Q-6OTqr",
        "colab_type": "code",
        "outputId": "37331238-9db8-4157-89d2-2f00c00af942",
        "colab": {
          "base_uri": "https://localhost:8080/",
          "height": 82
        }
      },
      "source": [
        "svc =SVC()\n",
        "svc.fit(X_train, y_train)"
      ],
      "execution_count": 0,
      "outputs": [
        {
          "output_type": "execute_result",
          "data": {
            "text/plain": [
              "SVC(C=1.0, break_ties=False, cache_size=200, class_weight=None, coef0=0.0,\n",
              "    decision_function_shape='ovr', degree=3, gamma='scale', kernel='rbf',\n",
              "    max_iter=-1, probability=False, random_state=None, shrinking=True,\n",
              "    tol=0.001, verbose=False)"
            ]
          },
          "metadata": {
            "tags": []
          },
          "execution_count": 53
        }
      ]
    },
    {
      "cell_type": "code",
      "metadata": {
        "id": "h_nb98svOfJS",
        "colab_type": "code",
        "colab": {}
      },
      "source": [
        "predictions = svc.predict(X_test)"
      ],
      "execution_count": 0,
      "outputs": []
    },
    {
      "cell_type": "code",
      "metadata": {
        "id": "r64dgJNmOk9T",
        "colab_type": "code",
        "colab": {}
      },
      "source": [
        "from sklearn.metrics import classification_report, confusion_matrix"
      ],
      "execution_count": 0,
      "outputs": []
    },
    {
      "cell_type": "markdown",
      "metadata": {
        "id": "FgX4gpFjw_3p",
        "colab_type": "text"
      },
      "source": [
        "The result of the models are as follows."
      ]
    },
    {
      "cell_type": "code",
      "metadata": {
        "id": "SdrNPvvIOreI",
        "colab_type": "code",
        "outputId": "72c0e765-1b75-44f6-8190-e4bc3c6c054c",
        "colab": {
          "base_uri": "https://localhost:8080/",
          "height": 196
        }
      },
      "source": [
        "print(classification_report(y_test, predictions))\n",
        "print(confusion_matrix(y_test, predictions))"
      ],
      "execution_count": 0,
      "outputs": [
        {
          "output_type": "stream",
          "text": [
            "              precision    recall  f1-score   support\n",
            "\n",
            "      female       0.98      0.98      0.98      1111\n",
            "        male       0.98      0.98      0.98      1107\n",
            "\n",
            "    accuracy                           0.98      2218\n",
            "   macro avg       0.98      0.98      0.98      2218\n",
            "weighted avg       0.98      0.98      0.98      2218\n",
            "\n",
            "[[1084   27]\n",
            " [  27 1080]]\n"
          ],
          "name": "stdout"
        }
      ]
    },
    {
      "cell_type": "markdown",
      "metadata": {
        "id": "Msjl6a69xGnz",
        "colab_type": "text"
      },
      "source": [
        "**Conclusion**\n",
        "\n",
        "Thus, in the above experiment, I have learnt about classification of data into various classes. I have implemented Classification using Support Vector classifiers.\n"
      ]
    }
  ]
}