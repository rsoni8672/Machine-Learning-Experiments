{
  "nbformat": 4,
  "nbformat_minor": 0,
  "metadata": {
    "kernelspec": {
      "display_name": "Python 3",
      "language": "python",
      "name": "python3"
    },
    "language_info": {
      "codemirror_mode": {
        "name": "ipython",
        "version": 3
      },
      "file_extension": ".py",
      "mimetype": "text/x-python",
      "name": "python",
      "nbconvert_exporter": "python",
      "pygments_lexer": "ipython3",
      "version": "3.7.6"
    },
    "colab": {
      "name": "ML.Expt.05ipynb",
      "provenance": [],
      "toc_visible": true
    }
  },
  "cells": [
    {
      "cell_type": "markdown",
      "metadata": {
        "id": "BO_0NE6AeY6M",
        "colab_type": "text"
      },
      "source": [
        "**Experiment No. 04**\n",
        "**Experiment no.03**\n",
        "\n",
        "---\n",
        "**AIM:To use Linear Regression**\n",
        "\n",
        "---\n",
        "**DataSet Link** :https://www.kaggle.com/mirichoi0218/insurance\n",
        "---\n",
        "**Objectives:**\n",
        "\n",
        "\n",
        "*   To impplement Linear Regression(Single and Multiple Variables).\n",
        "*   To predicrt the values of the taarget data for a given input. \n",
        "*   To interpret the value of R^2 for the input data set.\n",
        "\n",
        "\n",
        "---\n",
        "**Theory**:\n",
        "\n",
        "\n",
        "Linear Regression:\n",
        "\n",
        "The term “linearity” in algebra refers to a linear relationship between two or more variables. If we draw this relationship in a two-dimensional space (between two variables), we get a straight line.\n",
        "\n",
        "Linear regression performs the task to predict a dependent variable value (y) based on a given independent variable (x). So, this regression technique finds out a linear relationship between x (input) and y(output). Hence, the name is Linear Regression.\n"
      ]
    },
    {
      "cell_type": "markdown",
      "metadata": {
        "id": "buQWXtB3fkN7",
        "colab_type": "text"
      },
      "source": [
        "**Case 1**\n",
        "Where the dependent variable is is a single attribute.\n",
        "\n",
        "For the insurances dataset, the single independent variable is age and the dependent variable is the charges.\n",
        "\n",
        "The dataset is imported as a DataFrame.\n",
        "\n",
        "The dataset is first passed to ```train_test_split()``` and is divided into 2 parts. The training data is passed to the Linear Regression object's ```.fit()``` function.\n",
        "\n",
        "\n",
        "\n"
      ]
    },
    {
      "cell_type": "code",
      "metadata": {
        "id": "ghwIeG9YeHGw",
        "colab_type": "code",
        "colab": {}
      },
      "source": [
        "import pandas as pd"
      ],
      "execution_count": 0,
      "outputs": []
    },
    {
      "cell_type": "code",
      "metadata": {
        "id": "fI7Y6HMHeHG6",
        "colab_type": "code",
        "colab": {}
      },
      "source": [
        "import matplotlib.pyplot as plt\n",
        "from sklearn.model_selection import train_test_split\n"
      ],
      "execution_count": 0,
      "outputs": []
    },
    {
      "cell_type": "code",
      "metadata": {
        "id": "cqyKPqZweHG-",
        "colab_type": "code",
        "colab": {
          "base_uri": "https://localhost:8080/",
          "height": 277
        },
        "outputId": "3ce4526d-cf13-48d2-9793-6e044b6916a6"
      },
      "source": [
        "Data = pd.read_csv('sample_data/insurance.csv')\n",
        "print(Data.columns)\n",
        "print(Data)"
      ],
      "execution_count": 13,
      "outputs": [
        {
          "output_type": "stream",
          "text": [
            "Index(['age', 'sex', 'bmi', 'children', 'smoker', 'region', 'charges'], dtype='object')\n",
            "      age     sex     bmi  children smoker     region      charges\n",
            "0      19  female  27.900         0    yes  southwest  16884.92400\n",
            "1      18    male  33.770         1     no  southeast   1725.55230\n",
            "2      28    male  33.000         3     no  southeast   4449.46200\n",
            "3      33    male  22.705         0     no  northwest  21984.47061\n",
            "4      32    male  28.880         0     no  northwest   3866.85520\n",
            "...   ...     ...     ...       ...    ...        ...          ...\n",
            "1333   50    male  30.970         3     no  northwest  10600.54830\n",
            "1334   18  female  31.920         0     no  northeast   2205.98080\n",
            "1335   18  female  36.850         0     no  southeast   1629.83350\n",
            "1336   21  female  25.800         0     no  southwest   2007.94500\n",
            "1337   61  female  29.070         0    yes  northwest  29141.36030\n",
            "\n",
            "[1338 rows x 7 columns]\n"
          ],
          "name": "stdout"
        }
      ]
    },
    {
      "cell_type": "code",
      "metadata": {
        "id": "0pknZBDReHHG",
        "colab_type": "code",
        "colab": {}
      },
      "source": [
        "X = Data['age']\n",
        "X= Data['age'].values.reshape(len(X),1)\n",
        "Y = Data['charges']\n",
        "Y = Data['charges'].values.reshape(len(Y), 1)\n",
        "X_train,X_test, Y_train, Y_test = train_test_split(X, Y, test_size =0.2, random_state = 42)\n"
      ],
      "execution_count": 0,
      "outputs": []
    },
    {
      "cell_type": "code",
      "metadata": {
        "id": "1vhyVEVleHHO",
        "colab_type": "code",
        "colab": {}
      },
      "source": [
        "from sklearn.linear_model import LinearRegression\n",
        "from sklearn.metrics import mean_squared_error"
      ],
      "execution_count": 0,
      "outputs": []
    },
    {
      "cell_type": "code",
      "metadata": {
        "id": "s27qAffOeHHU",
        "colab_type": "code",
        "colab": {
          "base_uri": "https://localhost:8080/",
          "height": 34
        },
        "outputId": "3e31e42c-6cba-4181-89a8-8cc68b2d767e"
      },
      "source": [
        "LinearRegressionModel = LinearRegression()\n",
        "reg = LinearRegressionModel.fit(X_train,Y_train)\n",
        "Predictions =  reg.predict(X_test)\n",
        "\n",
        "r2 = reg.score(X_train, Y_train)\n",
        "print(r2)"
      ],
      "execution_count": 18,
      "outputs": [
        {
          "output_type": "stream",
          "text": [
            "0.07936661852890337\n"
          ],
          "name": "stdout"
        }
      ]
    },
    {
      "cell_type": "markdown",
      "metadata": {
        "id": "YiFxr5uLgrvI",
        "colab_type": "text"
      },
      "source": [
        "Thus, it can be seen that the value of R^2 is very small. This shows that the output is not predicted properly as the insurance rates depend on various other factors apart from age.\n"
      ]
    },
    {
      "cell_type": "markdown",
      "metadata": {
        "id": "YOwB6Brig_3U",
        "colab_type": "text"
      },
      "source": [
        "In the next section of the code, I perform Multiple Linear Regression where in the input paramaeters are more than one.\n",
        "\n",
        "**Data PreProcessing**\n",
        "\n",
        "To convert the text data present in the dataset we use ```pd.get_dummmies()```.\n",
        "All these are then passed to the object "
      ]
    },
    {
      "cell_type": "markdown",
      "metadata": {
        "id": "JhOGr-aNj2X5",
        "colab_type": "text"
      },
      "source": [
        "---\n",
        "Data for showing Calculations\n"
      ]
    },
    {
      "cell_type": "code",
      "metadata": {
        "id": "u2ZmIm32eHHc",
        "colab_type": "code",
        "colab": {
          "base_uri": "https://localhost:8080/",
          "height": 34
        },
        "outputId": "bdcf6de8-700e-482f-8d39-6ed7600ced75"
      },
      "source": [
        "# Demo Example of the code with data values\n",
        "x= pd.DataFrame([12,18,19,20,10]).values.reshape(5,1)\n",
        "y = pd.DataFrame([400,600,800, 1000, 900]).values.reshape(5,1)\n",
        "LinearRegressionModel = LinearRegression()\n",
        "reg = LinearRegressionModel.fit(x,y)\n",
        "\n",
        "r2 = reg.score(x, y)\n",
        "print(r2)"
      ],
      "execution_count": 30,
      "outputs": [
        {
          "output_type": "stream",
          "text": [
            "0.09578781153977489\n"
          ],
          "name": "stdout"
        }
      ]
    },
    {
      "cell_type": "code",
      "metadata": {
        "id": "1V1AwXA3eHHi",
        "colab_type": "code",
        "colab": {}
      },
      "source": [
        "# Multiple Linear RegressionDat\n",
        "Data = pd.read_csv('sample_data/insurance.csv')\n",
        "\n",
        "Y = Data['charges'].values.reshape(len(Y), 1)\n",
        "\n",
        "data = pd.DataFrame(Data, columns =['age','sex','bmi','children', 'smoker'    , 'region' ] )\n",
        "sex = pd.get_dummies(data['sex'])\n",
        "smoker =  pd.get_dummies(data['smoker'])\n",
        "region =  pd.get_dummies(data['region'])\n",
        "\n",
        "Data = pd.concat([data, sex,smoker, region], axis = 1)\n",
        "data  = pd.DataFrame(data, columns = ['age', 'bmi', 'children', 'female', 'male',\n",
        "       'no', 'yes', 'age', 'bmi', 'children','northeast', 'northwest', 'southeast', 'southwest'])\n",
        "data.columns\n",
        "data =  data.fillna(0)"
      ],
      "execution_count": 0,
      "outputs": []
    },
    {
      "cell_type": "code",
      "metadata": {
        "id": "P4gSfZ7reHHo",
        "colab_type": "code",
        "colab": {
          "base_uri": "https://localhost:8080/",
          "height": 156
        },
        "outputId": "12c5eec8-82bc-47d4-e03b-6a5578f4eb17"
      },
      "source": [
        "import numpy as np\n",
        "data.replace(np.nan, 0)\n",
        "print(data.head())\n",
        "\n",
        "X_train, X_test, Y_train, Y_test = train_test_split(data,Y, test_size = 0.2, random_state = 42)"
      ],
      "execution_count": 21,
      "outputs": [
        {
          "output_type": "stream",
          "text": [
            "   age     bmi  children  female  ...  northeast  northwest  southeast  southwest\n",
            "0   19  27.900         0     0.0  ...        0.0        0.0        0.0        0.0\n",
            "1   18  33.770         1     0.0  ...        0.0        0.0        0.0        0.0\n",
            "2   28  33.000         3     0.0  ...        0.0        0.0        0.0        0.0\n",
            "3   33  22.705         0     0.0  ...        0.0        0.0        0.0        0.0\n",
            "4   32  28.880         0     0.0  ...        0.0        0.0        0.0        0.0\n",
            "\n",
            "[5 rows x 14 columns]\n"
          ],
          "name": "stdout"
        }
      ]
    },
    {
      "cell_type": "code",
      "metadata": {
        "id": "frEyLea4eHHt",
        "colab_type": "code",
        "colab": {
          "base_uri": "https://localhost:8080/",
          "height": 260
        },
        "outputId": "7bd91a75-8ce8-460b-fca3-0b5157b7ccec"
      },
      "source": [
        "print(X_train)"
      ],
      "execution_count": 22,
      "outputs": [
        {
          "output_type": "stream",
          "text": [
            "      age     bmi  children  female  ...  northeast  northwest  southeast  southwest\n",
            "560    46  19.950         2     0.0  ...        0.0        0.0        0.0        0.0\n",
            "1285   47  24.320         0     0.0  ...        0.0        0.0        0.0        0.0\n",
            "1142   52  24.860         0     0.0  ...        0.0        0.0        0.0        0.0\n",
            "969    39  34.320         5     0.0  ...        0.0        0.0        0.0        0.0\n",
            "486    54  21.470         3     0.0  ...        0.0        0.0        0.0        0.0\n",
            "...   ...     ...       ...     ...  ...        ...        ...        ...        ...\n",
            "1095   18  31.350         4     0.0  ...        0.0        0.0        0.0        0.0\n",
            "1130   39  23.870         5     0.0  ...        0.0        0.0        0.0        0.0\n",
            "1294   58  25.175         0     0.0  ...        0.0        0.0        0.0        0.0\n",
            "860    37  47.600         2     0.0  ...        0.0        0.0        0.0        0.0\n",
            "1126   55  29.900         0     0.0  ...        0.0        0.0        0.0        0.0\n",
            "\n",
            "[1070 rows x 14 columns]\n"
          ],
          "name": "stdout"
        }
      ]
    },
    {
      "cell_type": "code",
      "metadata": {
        "id": "eGdyyJJkeHHy",
        "colab_type": "code",
        "colab": {
          "base_uri": "https://localhost:8080/",
          "height": 34
        },
        "outputId": "7f866b97-7f29-40ab-f33e-0315d6502e3d"
      },
      "source": [
        "LinearRegressionModel = LinearRegression()\n",
        "multiple_reg = LinearRegressionModel.fit(X_train, Y_train)\n",
        "Predictions  = multiple_reg.predict(X_test)\n",
        "\n",
        "r2 = multiple_reg.score(X_train, Y_train) \n",
        "print(r2)"
      ],
      "execution_count": 24,
      "outputs": [
        {
          "output_type": "stream",
          "text": [
            "0.10979897275048334\n"
          ],
          "name": "stdout"
        }
      ]
    },
    {
      "cell_type": "markdown",
      "metadata": {
        "id": "HwnD4YbSwLsy",
        "colab_type": "text"
      },
      "source": [
        "![alt text](https://drive.google.com/uc?id=1M2ytCxKswX-lJk7qLNpAIxgtmTo5E1XO)\n",
        "![alt text](https://drive.google.com/uc?id=1LUG8s0tghOEVKKcNeqknT2fU3ddMTVHV)\n"
      ]
    },
    {
      "cell_type": "markdown",
      "metadata": {
        "id": "PjiGN_wwh6eA",
        "colab_type": "text"
      },
      "source": [
        "Thus, it can be seen that the value of R^2 increases when more parameters are  taken into consideration in the evaluation of the dependent variables."
      ]
    },
    {
      "cell_type": "markdown",
      "metadata": {
        "id": "CxY5fAyxiMUQ",
        "colab_type": "text"
      },
      "source": [
        "**Conclusion**: Thus, from the above experiment, I have implemented Simple Linear Regression and Multiple Linear Regression on the insurances Dataset."
      ]
    }
  ]
}