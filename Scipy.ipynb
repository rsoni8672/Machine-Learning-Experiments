{
  "nbformat": 4,
  "nbformat_minor": 0,
  "metadata": {
    "colab": {
      "name": "ML.Expt03.ipynb",
      "provenance": []
    },
    "kernelspec": {
      "name": "python3",
      "display_name": "Python 3"
    }
  },
  "cells": [
    {
      "cell_type": "markdown",
      "metadata": {
        "id": "GhhKHYIvcfFc",
        "colab_type": "text"
      },
      "source": [
        "**Experiment no.03**\n",
        "\n",
        "---\n",
        "**AIM:To use Pandas And MatplotLib Libraries**\n",
        "\n",
        "---\n",
        "**Objectives:**\n",
        "\n",
        "\n",
        "*   To study the functions available in Pandas Library\n",
        "*   To Use DataFrame to study functions that can be implemented on data\n",
        "*   To impert csv file using Pandas\n",
        "*   To Use Matplotlib libraries to visualize Data\n",
        "\n",
        "---\n",
        "**Theory**\n",
        "\n",
        "**Pandas Library:**\n",
        "\n",
        "Pandas DataFrame is two-dimensional size-mutable, potentially heterogeneous tabular data structure with labeled axes (rows and columns). A Data frame is a two-dimensional data structure, i.e., data is aligned in a tabular fashion in rows and columns. Pandas DataFrame consists of three principal components, the data, rows, and columns.\n",
        "\n",
        "\n",
        "**Matplotlib Library:**\n",
        "\n",
        "Matplotlib is an amazing visualization library in Python for 2D plots of arrays. Matplotlib is a multi-platform data visualization library built on NumPy arrays and designed to work with the broader SciPy stack. It was introduced by John Hunter in the year 2002.\n",
        "\n",
        "One of the greatest benefits of visualization is that it allows us visual access to huge amounts of data in easily digestible visuals. Matplotlib consists of several plots like line, bar, scatter, histogram etc.\n",
        "\n",
        "---\n",
        "**Databases:**\n",
        "\n",
        "*  The experiment uses the California Data Set Provided by the Google Colab.\n",
        "\n",
        "\n"
      ]
    },
    {
      "cell_type": "markdown",
      "metadata": {
        "id": "WxaxkuJ6hbxt",
        "colab_type": "text"
      },
      "source": [
        "**Importing Modules**: Let’s import the required modules and get started!"
      ]
    },
    {
      "cell_type": "code",
      "metadata": {
        "id": "3Pq7_v9XrpXc",
        "colab_type": "code",
        "colab": {}
      },
      "source": [
        "import numpy as np\n",
        "import pandas as pd\n"
      ],
      "execution_count": 0,
      "outputs": []
    },
    {
      "cell_type": "markdown",
      "metadata": {
        "id": "Lfi9vZd1hkdL",
        "colab_type": "text"
      },
      "source": [
        "**CASE 1**: To use series in Pandas\n",
        "\n",
        "Pandas Series is a one-dimensional labeled array capable of holding any data type.\n",
        "In layman terms, Pandas Series is nothing but a column in an excel sheet. For example a Dataset having columns Name, Age and Designation representing a Series "
      ]
    },
    {
      "cell_type": "code",
      "metadata": {
        "id": "rEk61AlM2-_u",
        "colab_type": "code",
        "outputId": "ff52186d-1a75-4aa1-8798-4c1b372dad45",
        "colab": {
          "base_uri": "https://localhost:8080/",
          "height": 163
        }
      },
      "source": [
        "labels = ['a', 'b', 'c']\n",
        "array  = np.array([1,2,3])\n",
        "print(pd.Series(data = labels))\n",
        "print(\"After alttering the key\")\n",
        "se = pd.Series(data = labels, index = array)\n",
        "print(pd.Series(data = labels, index = array))"
      ],
      "execution_count": 0,
      "outputs": [
        {
          "output_type": "stream",
          "text": [
            "0    a\n",
            "1    b\n",
            "2    c\n",
            "dtype: object\n",
            "After alttering the key\n",
            "1    a\n",
            "2    b\n",
            "3    c\n",
            "dtype: object\n"
          ],
          "name": "stdout"
        }
      ]
    },
    {
      "cell_type": "code",
      "metadata": {
        "id": "1uU_HgHWrzcS",
        "colab_type": "code",
        "outputId": "5bb7a28c-9125-4491-bf86-cb0fd5fa684f",
        "colab": {
          "base_uri": "https://localhost:8080/",
          "height": 33
        }
      },
      "source": [
        " se[1]"
      ],
      "execution_count": 0,
      "outputs": [
        {
          "output_type": "execute_result",
          "data": {
            "text/plain": [
              "'a'"
            ]
          },
          "metadata": {
            "tags": []
          },
          "execution_count": 5
        }
      ]
    },
    {
      "cell_type": "code",
      "metadata": {
        "id": "MVf9gb61u6UK",
        "colab_type": "code",
        "outputId": "bb761ca4-4dda-4dfd-f813-2f4d11268877",
        "colab": {
          "base_uri": "https://localhost:8080/",
          "height": 98
        }
      },
      "source": [
        " pd.Series(data = labels)+pd.Series(data = labels, index = array)"
      ],
      "execution_count": 0,
      "outputs": [
        {
          "output_type": "execute_result",
          "data": {
            "text/plain": [
              "0    NaN\n",
              "1     ba\n",
              "2     cb\n",
              "3    NaN\n",
              "dtype: object"
            ]
          },
          "metadata": {
            "tags": []
          },
          "execution_count": 6
        }
      ]
    },
    {
      "cell_type": "markdown",
      "metadata": {
        "id": "PkuHgp0nMUCa",
        "colab_type": "text"
      },
      "source": [
        "**Observations**\n",
        "The code of the first cell creates a Series having labels(```['a', 'b', 'c']```)) with a default Indexing.\n",
        "\n",
        "The indexing of the series can also be altered by providing the list desired to be made as indices.\n",
        "In the second case, The ``` array ``` is passed as a parameter for custom indexing.\n",
        "\n",
        "\n",
        "``` se[1]  ``` returns the elemnt corresponding to indesx 1.\n",
        "\n",
        "Two Series can also be concated. The values with common indices get appended and those with uncommon indinces are set NaN values.\n"
      ]
    },
    {
      "cell_type": "code",
      "metadata": {
        "id": "DxZISYqcvNYr",
        "colab_type": "code",
        "colab": {}
      },
      "source": [
        "Pandas DataFrame\n",
        "Pandas DataFrame is two-dimensional size-mutable, potentially heterogeneous tabular data structure with labeled axes (rows and columns). \n"
      ],
      "execution_count": 0,
      "outputs": []
    },
    {
      "cell_type": "code",
      "metadata": {
        "id": "47oUXdMFvg5W",
        "colab_type": "code",
        "outputId": "bb6c4c33-a311-46b5-a64e-5ae23eda7ae7",
        "colab": {
          "base_uri": "https://localhost:8080/",
          "height": 220
        }
      },
      "source": [
        "from numpy.random import randn\n",
        "df  =  pd.DataFrame(randn(6,4), ['A','B','C', 'D', 'E','F'], ['W','X','Y','Z'] )\n",
        "df"
      ],
      "execution_count": 0,
      "outputs": [
        {
          "output_type": "execute_result",
          "data": {
            "text/html": [
              "<div>\n",
              "<style scoped>\n",
              "    .dataframe tbody tr th:only-of-type {\n",
              "        vertical-align: middle;\n",
              "    }\n",
              "\n",
              "    .dataframe tbody tr th {\n",
              "        vertical-align: top;\n",
              "    }\n",
              "\n",
              "    .dataframe thead th {\n",
              "        text-align: right;\n",
              "    }\n",
              "</style>\n",
              "<table border=\"1\" class=\"dataframe\">\n",
              "  <thead>\n",
              "    <tr style=\"text-align: right;\">\n",
              "      <th></th>\n",
              "      <th>W</th>\n",
              "      <th>X</th>\n",
              "      <th>Y</th>\n",
              "      <th>Z</th>\n",
              "    </tr>\n",
              "  </thead>\n",
              "  <tbody>\n",
              "    <tr>\n",
              "      <th>A</th>\n",
              "      <td>1.506340</td>\n",
              "      <td>0.928120</td>\n",
              "      <td>-1.074847</td>\n",
              "      <td>0.510852</td>\n",
              "    </tr>\n",
              "    <tr>\n",
              "      <th>B</th>\n",
              "      <td>0.941908</td>\n",
              "      <td>1.746948</td>\n",
              "      <td>1.114119</td>\n",
              "      <td>-1.019811</td>\n",
              "    </tr>\n",
              "    <tr>\n",
              "      <th>C</th>\n",
              "      <td>-1.707775</td>\n",
              "      <td>-0.547877</td>\n",
              "      <td>0.772570</td>\n",
              "      <td>-0.279987</td>\n",
              "    </tr>\n",
              "    <tr>\n",
              "      <th>D</th>\n",
              "      <td>0.890148</td>\n",
              "      <td>0.164235</td>\n",
              "      <td>-0.213714</td>\n",
              "      <td>1.267096</td>\n",
              "    </tr>\n",
              "    <tr>\n",
              "      <th>E</th>\n",
              "      <td>0.050747</td>\n",
              "      <td>-0.119780</td>\n",
              "      <td>-0.834763</td>\n",
              "      <td>0.770265</td>\n",
              "    </tr>\n",
              "    <tr>\n",
              "      <th>F</th>\n",
              "      <td>0.360370</td>\n",
              "      <td>0.646285</td>\n",
              "      <td>-1.608331</td>\n",
              "      <td>0.421521</td>\n",
              "    </tr>\n",
              "  </tbody>\n",
              "</table>\n",
              "</div>"
            ],
            "text/plain": [
              "          W         X         Y         Z\n",
              "A  1.506340  0.928120 -1.074847  0.510852\n",
              "B  0.941908  1.746948  1.114119 -1.019811\n",
              "C -1.707775 -0.547877  0.772570 -0.279987\n",
              "D  0.890148  0.164235 -0.213714  1.267096\n",
              "E  0.050747 -0.119780 -0.834763  0.770265\n",
              "F  0.360370  0.646285 -1.608331  0.421521"
            ]
          },
          "metadata": {
            "tags": []
          },
          "execution_count": 9
        }
      ]
    },
    {
      "cell_type": "markdown",
      "metadata": {
        "id": "11Y1Y4Pkva-n",
        "colab_type": "text"
      },
      "source": [
        "**Observations**\n",
        "\n",
        "The line of code\n",
        "```\n",
        "pd.DataFrame(randn(6,4), ['A','B','C', 'D', 'E','F'], ['W','X','Y','Z'] )   \n",
        "```      \n",
        "results in DataFrame with A, B, C, D , E, F as the rows and W, X, Y, Z as its columns output. \n",
        "\n"
      ]
    },
    {
      "cell_type": "code",
      "metadata": {
        "id": "uYCdNA4Zw-64",
        "colab_type": "code",
        "outputId": "604a779c-63f5-4379-fa4f-5f3b2f8bc3d1",
        "colab": {
          "base_uri": "https://localhost:8080/",
          "height": 131
        }
      },
      "source": [
        "print(df['W'])"
      ],
      "execution_count": 0,
      "outputs": [
        {
          "output_type": "stream",
          "text": [
            "A    1.506340\n",
            "B    0.941908\n",
            "C   -1.707775\n",
            "D    0.890148\n",
            "E    0.050747\n",
            "F    0.360370\n",
            "Name: W, dtype: float64\n"
          ],
          "name": "stdout"
        }
      ]
    },
    {
      "cell_type": "markdown",
      "metadata": {
        "id": "mtFVmV2Jky2k",
        "colab_type": "text"
      },
      "source": [
        "**Observations:**\n",
        "\n",
        "The above cell prints all the values present under column 'W'.\n",
        "\n"
      ]
    },
    {
      "cell_type": "code",
      "metadata": {
        "id": "qiR1FJCHxEj4",
        "colab_type": "code",
        "colab": {}
      },
      "source": [
        "df.drop('W', axis =1, inplace = True)\n",
        "**Observations:**\n",
        "\n",
        "The above cell deletes all the values present under column 'W'.\n",
        "The value of axis specifies whether the operation is to be performed along the row or the column.\n",
        "The value of Inplace is set to True which specifies that this cahnge is to be applied to df permenantly as it can be seen in the following cell.\n"
      ],
      "execution_count": 0,
      "outputs": []
    },
    {
      "cell_type": "code",
      "metadata": {
        "id": "5wHSoVvgyUZw",
        "colab_type": "code",
        "outputId": "1593ca75-07c2-4c74-def5-4dddc66a8902",
        "colab": {
          "base_uri": "https://localhost:8080/",
          "height": 220
        }
      },
      "source": [
        "df"
      ],
      "execution_count": 0,
      "outputs": [
        {
          "output_type": "execute_result",
          "data": {
            "text/html": [
              "<div>\n",
              "<style scoped>\n",
              "    .dataframe tbody tr th:only-of-type {\n",
              "        vertical-align: middle;\n",
              "    }\n",
              "\n",
              "    .dataframe tbody tr th {\n",
              "        vertical-align: top;\n",
              "    }\n",
              "\n",
              "    .dataframe thead th {\n",
              "        text-align: right;\n",
              "    }\n",
              "</style>\n",
              "<table border=\"1\" class=\"dataframe\">\n",
              "  <thead>\n",
              "    <tr style=\"text-align: right;\">\n",
              "      <th></th>\n",
              "      <th>X</th>\n",
              "      <th>Y</th>\n",
              "      <th>Z</th>\n",
              "    </tr>\n",
              "  </thead>\n",
              "  <tbody>\n",
              "    <tr>\n",
              "      <th>A</th>\n",
              "      <td>0.928120</td>\n",
              "      <td>-1.074847</td>\n",
              "      <td>0.510852</td>\n",
              "    </tr>\n",
              "    <tr>\n",
              "      <th>B</th>\n",
              "      <td>1.746948</td>\n",
              "      <td>1.114119</td>\n",
              "      <td>-1.019811</td>\n",
              "    </tr>\n",
              "    <tr>\n",
              "      <th>C</th>\n",
              "      <td>-0.547877</td>\n",
              "      <td>0.772570</td>\n",
              "      <td>-0.279987</td>\n",
              "    </tr>\n",
              "    <tr>\n",
              "      <th>D</th>\n",
              "      <td>0.164235</td>\n",
              "      <td>-0.213714</td>\n",
              "      <td>1.267096</td>\n",
              "    </tr>\n",
              "    <tr>\n",
              "      <th>E</th>\n",
              "      <td>-0.119780</td>\n",
              "      <td>-0.834763</td>\n",
              "      <td>0.770265</td>\n",
              "    </tr>\n",
              "    <tr>\n",
              "      <th>F</th>\n",
              "      <td>0.646285</td>\n",
              "      <td>-1.608331</td>\n",
              "      <td>0.421521</td>\n",
              "    </tr>\n",
              "  </tbody>\n",
              "</table>\n",
              "</div>"
            ],
            "text/plain": [
              "          X         Y         Z\n",
              "A  0.928120 -1.074847  0.510852\n",
              "B  1.746948  1.114119 -1.019811\n",
              "C -0.547877  0.772570 -0.279987\n",
              "D  0.164235 -0.213714  1.267096\n",
              "E -0.119780 -0.834763  0.770265\n",
              "F  0.646285 -1.608331  0.421521"
            ]
          },
          "metadata": {
            "tags": []
          },
          "execution_count": 12
        }
      ]
    },
    {
      "cell_type": "code",
      "metadata": {
        "id": "Xj3BBaKKyVgQ",
        "colab_type": "code",
        "outputId": "b04d0dd3-4c10-40d0-9eb3-83ff95cdb94f",
        "colab": {
          "base_uri": "https://localhost:8080/",
          "height": 33
        }
      },
      "source": [
        "df.shape"
      ],
      "execution_count": 0,
      "outputs": [
        {
          "output_type": "execute_result",
          "data": {
            "text/plain": [
              "(6, 3)"
            ]
          },
          "metadata": {
            "tags": []
          },
          "execution_count": 23
        }
      ]
    },
    {
      "cell_type": "markdown",
      "metadata": {
        "id": "Kb2u-KnflmsY",
        "colab_type": "text"
      },
      "source": [
        "**Observations:**\n",
        "\n",
        "The above cell prints the shape of the DataFrame with 6 representing the number of columns and 3 representing the number of rows."
      ]
    },
    {
      "cell_type": "code",
      "metadata": {
        "id": "W9eKTOYKylpH",
        "colab_type": "code",
        "outputId": "31479437-367a-4a28-fdf7-c58e444d2e2b",
        "colab": {
          "base_uri": "https://localhost:8080/",
          "height": 220
        }
      },
      "source": [
        "df>0.5"
      ],
      "execution_count": 0,
      "outputs": [
        {
          "output_type": "execute_result",
          "data": {
            "text/html": [
              "<div>\n",
              "<style scoped>\n",
              "    .dataframe tbody tr th:only-of-type {\n",
              "        vertical-align: middle;\n",
              "    }\n",
              "\n",
              "    .dataframe tbody tr th {\n",
              "        vertical-align: top;\n",
              "    }\n",
              "\n",
              "    .dataframe thead th {\n",
              "        text-align: right;\n",
              "    }\n",
              "</style>\n",
              "<table border=\"1\" class=\"dataframe\">\n",
              "  <thead>\n",
              "    <tr style=\"text-align: right;\">\n",
              "      <th></th>\n",
              "      <th>X</th>\n",
              "      <th>Y</th>\n",
              "      <th>Z</th>\n",
              "    </tr>\n",
              "  </thead>\n",
              "  <tbody>\n",
              "    <tr>\n",
              "      <th>A</th>\n",
              "      <td>True</td>\n",
              "      <td>False</td>\n",
              "      <td>True</td>\n",
              "    </tr>\n",
              "    <tr>\n",
              "      <th>B</th>\n",
              "      <td>True</td>\n",
              "      <td>True</td>\n",
              "      <td>False</td>\n",
              "    </tr>\n",
              "    <tr>\n",
              "      <th>C</th>\n",
              "      <td>False</td>\n",
              "      <td>True</td>\n",
              "      <td>False</td>\n",
              "    </tr>\n",
              "    <tr>\n",
              "      <th>D</th>\n",
              "      <td>False</td>\n",
              "      <td>False</td>\n",
              "      <td>True</td>\n",
              "    </tr>\n",
              "    <tr>\n",
              "      <th>E</th>\n",
              "      <td>False</td>\n",
              "      <td>False</td>\n",
              "      <td>True</td>\n",
              "    </tr>\n",
              "    <tr>\n",
              "      <th>F</th>\n",
              "      <td>True</td>\n",
              "      <td>False</td>\n",
              "      <td>False</td>\n",
              "    </tr>\n",
              "  </tbody>\n",
              "</table>\n",
              "</div>"
            ],
            "text/plain": [
              "       X      Y      Z\n",
              "A   True  False   True\n",
              "B   True   True  False\n",
              "C  False   True  False\n",
              "D  False  False   True\n",
              "E  False  False   True\n",
              "F   True  False  False"
            ]
          },
          "metadata": {
            "tags": []
          },
          "execution_count": 13
        }
      ]
    },
    {
      "cell_type": "markdown",
      "metadata": {
        "id": "E6qkhIjmmAf1",
        "colab_type": "text"
      },
      "source": [
        "**Observations:**\n",
        "\n",
        "The above cell returns True at all placas where the condition specified turns out to be True and vice versa."
      ]
    },
    {
      "cell_type": "code",
      "metadata": {
        "id": "9DwG4gvhL-qE",
        "colab_type": "code",
        "outputId": "54e657c6-0016-43b2-ed24-df3836cf9675",
        "colab": {
          "base_uri": "https://localhost:8080/",
          "height": 162
        }
      },
      "source": [
        " df[df['X']>0]"
      ],
      "execution_count": 0,
      "outputs": [
        {
          "output_type": "execute_result",
          "data": {
            "text/html": [
              "<div>\n",
              "<style scoped>\n",
              "    .dataframe tbody tr th:only-of-type {\n",
              "        vertical-align: middle;\n",
              "    }\n",
              "\n",
              "    .dataframe tbody tr th {\n",
              "        vertical-align: top;\n",
              "    }\n",
              "\n",
              "    .dataframe thead th {\n",
              "        text-align: right;\n",
              "    }\n",
              "</style>\n",
              "<table border=\"1\" class=\"dataframe\">\n",
              "  <thead>\n",
              "    <tr style=\"text-align: right;\">\n",
              "      <th></th>\n",
              "      <th>X</th>\n",
              "      <th>Y</th>\n",
              "      <th>Z</th>\n",
              "    </tr>\n",
              "  </thead>\n",
              "  <tbody>\n",
              "    <tr>\n",
              "      <th>A</th>\n",
              "      <td>0.928120</td>\n",
              "      <td>-1.074847</td>\n",
              "      <td>0.510852</td>\n",
              "    </tr>\n",
              "    <tr>\n",
              "      <th>B</th>\n",
              "      <td>1.746948</td>\n",
              "      <td>1.114119</td>\n",
              "      <td>-1.019811</td>\n",
              "    </tr>\n",
              "    <tr>\n",
              "      <th>D</th>\n",
              "      <td>0.164235</td>\n",
              "      <td>-0.213714</td>\n",
              "      <td>1.267096</td>\n",
              "    </tr>\n",
              "    <tr>\n",
              "      <th>F</th>\n",
              "      <td>0.646285</td>\n",
              "      <td>-1.608331</td>\n",
              "      <td>0.421521</td>\n",
              "    </tr>\n",
              "  </tbody>\n",
              "</table>\n",
              "</div>"
            ],
            "text/plain": [
              "          X         Y         Z\n",
              "A  0.928120 -1.074847  0.510852\n",
              "B  1.746948  1.114119 -1.019811\n",
              "D  0.164235 -0.213714  1.267096\n",
              "F  0.646285 -1.608331  0.421521"
            ]
          },
          "metadata": {
            "tags": []
          },
          "execution_count": 18
        }
      ]
    },
    {
      "cell_type": "markdown",
      "metadata": {
        "id": "wMugUnZrmR1o",
        "colab_type": "text"
      },
      "source": [
        "The above code returns only those rows and  columns of the dataframe that satisfies the condition specified.  "
      ]
    },
    {
      "cell_type": "code",
      "metadata": {
        "id": "0TyfN1DSNwl7",
        "colab_type": "code",
        "outputId": "1ac27a12-5284-4540-9e1c-d2ba2aefe2e0",
        "colab": {
          "base_uri": "https://localhost:8080/",
          "height": 80
        }
      },
      "source": [
        "df[(df['X']>0) ][df['Y']>0][df['Z']>0]"
      ],
      "execution_count": 0,
      "outputs": [
        {
          "output_type": "stream",
          "text": [
            "/usr/local/lib/python3.6/dist-packages/ipykernel_launcher.py:1: UserWarning: Boolean Series key will be reindexed to match DataFrame index.\n",
            "  \"\"\"Entry point for launching an IPython kernel.\n"
          ],
          "name": "stderr"
        },
        {
          "output_type": "execute_result",
          "data": {
            "text/html": [
              "<div>\n",
              "<style scoped>\n",
              "    .dataframe tbody tr th:only-of-type {\n",
              "        vertical-align: middle;\n",
              "    }\n",
              "\n",
              "    .dataframe tbody tr th {\n",
              "        vertical-align: top;\n",
              "    }\n",
              "\n",
              "    .dataframe thead th {\n",
              "        text-align: right;\n",
              "    }\n",
              "</style>\n",
              "<table border=\"1\" class=\"dataframe\">\n",
              "  <thead>\n",
              "    <tr style=\"text-align: right;\">\n",
              "      <th></th>\n",
              "      <th>X</th>\n",
              "      <th>Y</th>\n",
              "      <th>Z</th>\n",
              "    </tr>\n",
              "  </thead>\n",
              "  <tbody>\n",
              "  </tbody>\n",
              "</table>\n",
              "</div>"
            ],
            "text/plain": [
              "Empty DataFrame\n",
              "Columns: [X, Y, Z]\n",
              "Index: []"
            ]
          },
          "metadata": {
            "tags": []
          },
          "execution_count": 19
        }
      ]
    },
    {
      "cell_type": "markdown",
      "metadata": {
        "id": "uyBmuTcJmlej",
        "colab_type": "text"
      },
      "source": [
        "**Observation:**\n",
        "\n",
        "The above instructions shows that the conditions can be intended.\n",
        "The    ```\n",
        "df[df['X']>0]    ``` returns a dataframe on which   ``` df[df['Y']>0]    ``` is evaluated and so on so forth.\n",
        "\n",
        " "
      ]
    },
    {
      "cell_type": "markdown",
      "metadata": {
        "id": "_rdxq865SBzN",
        "colab_type": "text"
      },
      "source": [
        "Handling Missing Data"
      ]
    },
    {
      "cell_type": "code",
      "metadata": {
        "id": "iNOq-ZKeOCtQ",
        "colab_type": "code",
        "colab": {}
      },
      "source": [
        " d  = {'A':[1,2,np.nan], 'B':[3,np.nan, 4], 'C':[5,6,7]}"
      ],
      "execution_count": 0,
      "outputs": []
    },
    {
      "cell_type": "code",
      "metadata": {
        "id": "UpoTMEQsSiXs",
        "colab_type": "code",
        "colab": {}
      },
      "source": [
        "p = pd.DataFrame(d)"
      ],
      "execution_count": 0,
      "outputs": []
    },
    {
      "cell_type": "code",
      "metadata": {
        "id": "DGrHD-WrSmmb",
        "colab_type": "code",
        "outputId": "f4034f84-1373-4632-b989-7ed10af71622",
        "colab": {
          "base_uri": "https://localhost:8080/",
          "height": 133
        }
      },
      "source": [
        "p"
      ],
      "execution_count": 0,
      "outputs": [
        {
          "output_type": "execute_result",
          "data": {
            "text/html": [
              "<div>\n",
              "<style scoped>\n",
              "    .dataframe tbody tr th:only-of-type {\n",
              "        vertical-align: middle;\n",
              "    }\n",
              "\n",
              "    .dataframe tbody tr th {\n",
              "        vertical-align: top;\n",
              "    }\n",
              "\n",
              "    .dataframe thead th {\n",
              "        text-align: right;\n",
              "    }\n",
              "</style>\n",
              "<table border=\"1\" class=\"dataframe\">\n",
              "  <thead>\n",
              "    <tr style=\"text-align: right;\">\n",
              "      <th></th>\n",
              "      <th>A</th>\n",
              "      <th>B</th>\n",
              "      <th>C</th>\n",
              "    </tr>\n",
              "  </thead>\n",
              "  <tbody>\n",
              "    <tr>\n",
              "      <th>0</th>\n",
              "      <td>1.0</td>\n",
              "      <td>3.0</td>\n",
              "      <td>5</td>\n",
              "    </tr>\n",
              "    <tr>\n",
              "      <th>1</th>\n",
              "      <td>2.0</td>\n",
              "      <td>NaN</td>\n",
              "      <td>6</td>\n",
              "    </tr>\n",
              "    <tr>\n",
              "      <th>2</th>\n",
              "      <td>NaN</td>\n",
              "      <td>4.0</td>\n",
              "      <td>7</td>\n",
              "    </tr>\n",
              "  </tbody>\n",
              "</table>\n",
              "</div>"
            ],
            "text/plain": [
              "     A    B  C\n",
              "0  1.0  3.0  5\n",
              "1  2.0  NaN  6\n",
              "2  NaN  4.0  7"
            ]
          },
          "metadata": {
            "tags": []
          },
          "execution_count": 22
        }
      ]
    },
    {
      "cell_type": "markdown",
      "metadata": {
        "id": "Z1DOEdPbncTX",
        "colab_type": "text"
      },
      "source": [
        "**Observations:**\n",
        "The above snippet of the code produces a Dataframe from the Dictionary with keys as columns and values represents rows holding values in the form of a list."
      ]
    },
    {
      "cell_type": "code",
      "metadata": {
        "id": "PvbfYYMDSnpg",
        "colab_type": "code",
        "outputId": "55411e1e-caf5-4144-969d-834cfaf97654",
        "colab": {
          "base_uri": "https://localhost:8080/",
          "height": 133
        }
      },
      "source": [
        "p.dropna(axis =1)"
      ],
      "execution_count": 0,
      "outputs": [
        {
          "output_type": "execute_result",
          "data": {
            "text/html": [
              "<div>\n",
              "<style scoped>\n",
              "    .dataframe tbody tr th:only-of-type {\n",
              "        vertical-align: middle;\n",
              "    }\n",
              "\n",
              "    .dataframe tbody tr th {\n",
              "        vertical-align: top;\n",
              "    }\n",
              "\n",
              "    .dataframe thead th {\n",
              "        text-align: right;\n",
              "    }\n",
              "</style>\n",
              "<table border=\"1\" class=\"dataframe\">\n",
              "  <thead>\n",
              "    <tr style=\"text-align: right;\">\n",
              "      <th></th>\n",
              "      <th>C</th>\n",
              "    </tr>\n",
              "  </thead>\n",
              "  <tbody>\n",
              "    <tr>\n",
              "      <th>0</th>\n",
              "      <td>5</td>\n",
              "    </tr>\n",
              "    <tr>\n",
              "      <th>1</th>\n",
              "      <td>6</td>\n",
              "    </tr>\n",
              "    <tr>\n",
              "      <th>2</th>\n",
              "      <td>7</td>\n",
              "    </tr>\n",
              "  </tbody>\n",
              "</table>\n",
              "</div>"
            ],
            "text/plain": [
              "   C\n",
              "0  5\n",
              "1  6\n",
              "2  7"
            ]
          },
          "metadata": {
            "tags": []
          },
          "execution_count": 23
        }
      ]
    },
    {
      "cell_type": "markdown",
      "metadata": {
        "id": "j4__Bu-hn2Gx",
        "colab_type": "text"
      },
      "source": [
        "**Observations:**\n",
        "The ```\n",
        "dropna(axis  = 1)``` drops colums consisting of NaN values.\n",
        "\n"
      ]
    },
    {
      "cell_type": "code",
      "metadata": {
        "id": "VBGw-Y3LS397",
        "colab_type": "code",
        "outputId": "03777860-58aa-4bca-e03b-35c4bfb69338",
        "colab": {
          "base_uri": "https://localhost:8080/",
          "height": 76
        }
      },
      "source": [
        "p.dropna()"
      ],
      "execution_count": 0,
      "outputs": [
        {
          "output_type": "execute_result",
          "data": {
            "text/html": [
              "<div>\n",
              "<style scoped>\n",
              "    .dataframe tbody tr th:only-of-type {\n",
              "        vertical-align: middle;\n",
              "    }\n",
              "\n",
              "    .dataframe tbody tr th {\n",
              "        vertical-align: top;\n",
              "    }\n",
              "\n",
              "    .dataframe thead th {\n",
              "        text-align: right;\n",
              "    }\n",
              "</style>\n",
              "<table border=\"1\" class=\"dataframe\">\n",
              "  <thead>\n",
              "    <tr style=\"text-align: right;\">\n",
              "      <th></th>\n",
              "      <th>A</th>\n",
              "      <th>B</th>\n",
              "      <th>C</th>\n",
              "    </tr>\n",
              "  </thead>\n",
              "  <tbody>\n",
              "    <tr>\n",
              "      <th>0</th>\n",
              "      <td>1.0</td>\n",
              "      <td>3.0</td>\n",
              "      <td>5</td>\n",
              "    </tr>\n",
              "  </tbody>\n",
              "</table>\n",
              "</div>"
            ],
            "text/plain": [
              "     A    B  C\n",
              "0  1.0  3.0  5"
            ]
          },
          "metadata": {
            "tags": []
          },
          "execution_count": 24
        }
      ]
    },
    {
      "cell_type": "markdown",
      "metadata": {
        "id": "LgoxRmLqoG9o",
        "colab_type": "text"
      },
      "source": [
        "**Observations:**\n",
        "The ```\n",
        "dropna()``` drops colums and rows consisting of NaN values."
      ]
    },
    {
      "cell_type": "code",
      "metadata": {
        "id": "gR_WpYpCS8jW",
        "colab_type": "code",
        "outputId": "3c781115-6986-4503-8f18-f1991ce4916f",
        "colab": {
          "base_uri": "https://localhost:8080/",
          "height": 133
        }
      },
      "source": [
        "\n",
        "p.fillna(value = p['C'].mean())"
      ],
      "execution_count": 0,
      "outputs": [
        {
          "output_type": "execute_result",
          "data": {
            "text/html": [
              "<div>\n",
              "<style scoped>\n",
              "    .dataframe tbody tr th:only-of-type {\n",
              "        vertical-align: middle;\n",
              "    }\n",
              "\n",
              "    .dataframe tbody tr th {\n",
              "        vertical-align: top;\n",
              "    }\n",
              "\n",
              "    .dataframe thead th {\n",
              "        text-align: right;\n",
              "    }\n",
              "</style>\n",
              "<table border=\"1\" class=\"dataframe\">\n",
              "  <thead>\n",
              "    <tr style=\"text-align: right;\">\n",
              "      <th></th>\n",
              "      <th>A</th>\n",
              "      <th>B</th>\n",
              "      <th>C</th>\n",
              "    </tr>\n",
              "  </thead>\n",
              "  <tbody>\n",
              "    <tr>\n",
              "      <th>0</th>\n",
              "      <td>1.0</td>\n",
              "      <td>3.0</td>\n",
              "      <td>5</td>\n",
              "    </tr>\n",
              "    <tr>\n",
              "      <th>1</th>\n",
              "      <td>2.0</td>\n",
              "      <td>6.0</td>\n",
              "      <td>6</td>\n",
              "    </tr>\n",
              "    <tr>\n",
              "      <th>2</th>\n",
              "      <td>6.0</td>\n",
              "      <td>4.0</td>\n",
              "      <td>7</td>\n",
              "    </tr>\n",
              "  </tbody>\n",
              "</table>\n",
              "</div>"
            ],
            "text/plain": [
              "     A    B  C\n",
              "0  1.0  3.0  5\n",
              "1  2.0  6.0  6\n",
              "2  6.0  4.0  7"
            ]
          },
          "metadata": {
            "tags": []
          },
          "execution_count": 28
        }
      ]
    },
    {
      "cell_type": "markdown",
      "metadata": {
        "id": "IbZeS7lNoLnC",
        "colab_type": "text"
      },
      "source": [
        "**Observations:**\n",
        "The ```\n",
        "p.fillna(value = p['C'].mean())``` replaces all the NaN values by mean of values in Column C."
      ]
    },
    {
      "cell_type": "markdown",
      "metadata": {
        "id": "nwAg9osxTiv3",
        "colab_type": "text"
      },
      "source": [
        "Import CSV file using Pandas"
      ]
    },
    {
      "cell_type": "code",
      "metadata": {
        "id": "qft-ejlmWhO5",
        "colab_type": "code",
        "colab": {}
      },
      "source": [
        "pf = pd.read_csv('./sample_data/california_housing_train.csv')"
      ],
      "execution_count": 0,
      "outputs": []
    },
    {
      "cell_type": "markdown",
      "metadata": {
        "id": "OGVknI1qotta",
        "colab_type": "text"
      },
      "source": [
        "**Observations:** The datafile can be read into the program using the read_csv command with paramenter as the relative path of the file stored. "
      ]
    },
    {
      "cell_type": "code",
      "metadata": {
        "id": "DDz0UlgEYOIX",
        "colab_type": "code",
        "outputId": "758b15e4-106a-4c47-f513-301bc5f7650e",
        "colab": {
          "base_uri": "https://localhost:8080/",
          "height": 191
        }
      },
      "source": [
        " pf.head()"
      ],
      "execution_count": 9,
      "outputs": [
        {
          "output_type": "execute_result",
          "data": {
            "text/html": [
              "<div>\n",
              "<style scoped>\n",
              "    .dataframe tbody tr th:only-of-type {\n",
              "        vertical-align: middle;\n",
              "    }\n",
              "\n",
              "    .dataframe tbody tr th {\n",
              "        vertical-align: top;\n",
              "    }\n",
              "\n",
              "    .dataframe thead th {\n",
              "        text-align: right;\n",
              "    }\n",
              "</style>\n",
              "<table border=\"1\" class=\"dataframe\">\n",
              "  <thead>\n",
              "    <tr style=\"text-align: right;\">\n",
              "      <th></th>\n",
              "      <th>longitude</th>\n",
              "      <th>latitude</th>\n",
              "      <th>housing_median_age</th>\n",
              "      <th>total_rooms</th>\n",
              "      <th>total_bedrooms</th>\n",
              "      <th>population</th>\n",
              "      <th>households</th>\n",
              "      <th>median_income</th>\n",
              "      <th>median_house_value</th>\n",
              "    </tr>\n",
              "  </thead>\n",
              "  <tbody>\n",
              "    <tr>\n",
              "      <th>0</th>\n",
              "      <td>-114.31</td>\n",
              "      <td>34.19</td>\n",
              "      <td>15.0</td>\n",
              "      <td>5612.0</td>\n",
              "      <td>1283.0</td>\n",
              "      <td>1015.0</td>\n",
              "      <td>472.0</td>\n",
              "      <td>1.4936</td>\n",
              "      <td>66900.0</td>\n",
              "    </tr>\n",
              "    <tr>\n",
              "      <th>1</th>\n",
              "      <td>-114.47</td>\n",
              "      <td>34.40</td>\n",
              "      <td>19.0</td>\n",
              "      <td>7650.0</td>\n",
              "      <td>1901.0</td>\n",
              "      <td>1129.0</td>\n",
              "      <td>463.0</td>\n",
              "      <td>1.8200</td>\n",
              "      <td>80100.0</td>\n",
              "    </tr>\n",
              "    <tr>\n",
              "      <th>2</th>\n",
              "      <td>-114.56</td>\n",
              "      <td>33.69</td>\n",
              "      <td>17.0</td>\n",
              "      <td>720.0</td>\n",
              "      <td>174.0</td>\n",
              "      <td>333.0</td>\n",
              "      <td>117.0</td>\n",
              "      <td>1.6509</td>\n",
              "      <td>85700.0</td>\n",
              "    </tr>\n",
              "    <tr>\n",
              "      <th>3</th>\n",
              "      <td>-114.57</td>\n",
              "      <td>33.64</td>\n",
              "      <td>14.0</td>\n",
              "      <td>1501.0</td>\n",
              "      <td>337.0</td>\n",
              "      <td>515.0</td>\n",
              "      <td>226.0</td>\n",
              "      <td>3.1917</td>\n",
              "      <td>73400.0</td>\n",
              "    </tr>\n",
              "    <tr>\n",
              "      <th>4</th>\n",
              "      <td>-114.57</td>\n",
              "      <td>33.57</td>\n",
              "      <td>20.0</td>\n",
              "      <td>1454.0</td>\n",
              "      <td>326.0</td>\n",
              "      <td>624.0</td>\n",
              "      <td>262.0</td>\n",
              "      <td>1.9250</td>\n",
              "      <td>65500.0</td>\n",
              "    </tr>\n",
              "  </tbody>\n",
              "</table>\n",
              "</div>"
            ],
            "text/plain": [
              "   longitude  latitude  ...  median_income  median_house_value\n",
              "0    -114.31     34.19  ...         1.4936             66900.0\n",
              "1    -114.47     34.40  ...         1.8200             80100.0\n",
              "2    -114.56     33.69  ...         1.6509             85700.0\n",
              "3    -114.57     33.64  ...         3.1917             73400.0\n",
              "4    -114.57     33.57  ...         1.9250             65500.0\n",
              "\n",
              "[5 rows x 9 columns]"
            ]
          },
          "metadata": {
            "tags": []
          },
          "execution_count": 9
        }
      ]
    },
    {
      "cell_type": "code",
      "metadata": {
        "id": "Fgv8L7xLYgHF",
        "colab_type": "code",
        "colab": {}
      },
      "source": [
        " import matplotlib.pyplot as plt \n",
        " %matplotlib inline\n",
        " "
      ],
      "execution_count": 0,
      "outputs": []
    },
    {
      "cell_type": "code",
      "metadata": {
        "id": "FhbCjeejRrAj",
        "colab_type": "code",
        "colab": {}
      },
      "source": [
        "x = np.arange(10)"
      ],
      "execution_count": 0,
      "outputs": []
    },
    {
      "cell_type": "code",
      "metadata": {
        "id": "ZiSv1AbARyw7",
        "colab_type": "code",
        "colab": {}
      },
      "source": [
        "y = x**2"
      ],
      "execution_count": 0,
      "outputs": []
    },
    {
      "cell_type": "code",
      "metadata": {
        "id": "-VaBcXz1R1Pr",
        "colab_type": "code",
        "colab": {
          "base_uri": "https://localhost:8080/",
          "height": 281
        },
        "outputId": "ad9b10cc-3d2d-491b-fca3-fc096224e24a"
      },
      "source": [
        "plt.plot(x, y)"
      ],
      "execution_count": 15,
      "outputs": [
        {
          "output_type": "execute_result",
          "data": {
            "text/plain": [
              "[<matplotlib.lines.Line2D at 0x7ffb5468ab38>]"
            ]
          },
          "metadata": {
            "tags": []
          },
          "execution_count": 15
        },
        {
          "output_type": "display_data",
          "data": {
            "image/png": "[encoded data removed]",
            "text/plain": [
              "<Figure size 432x288 with 1 Axes>"
            ]
          },
          "metadata": {
            "tags": []
          }
        }
      ]
    },
    {
      "cell_type": "markdown",
      "metadata": {
        "id": "MiTKIWpopIkf",
        "colab_type": "text"
      },
      "source": [
        "**Observations:**\n",
        "The above code plots a graph with X-axis representing Values of List X and Y=axis representing the values of List Y.\n",
        "As it can be seen from the graph that the value of Y is square of the corresponding X value."
      ]
    },
    {
      "cell_type": "code",
      "metadata": {
        "id": "3oGBAkFER230",
        "colab_type": "code",
        "colab": {
          "base_uri": "https://localhost:8080/",
          "height": 297
        },
        "outputId": "14769c2d-4d92-41f1-baaf-18f5407cc2bf"
      },
      "source": [
        "plt.plot(pf['total_bedrooms'], pf['median_house_value'])\n",
        "plt.title('Relation between Bedroom and HOuse VAlue')"
      ],
      "execution_count": 19,
      "outputs": [
        {
          "output_type": "execute_result",
          "data": {
            "text/plain": [
              "Text(0.5, 1.0, 'Relation between Bedroom and HOuse VAlue')"
            ]
          },
          "metadata": {
            "tags": []
          },
          "execution_count": 19
        },
        {
          "output_type": "display_data",
          "data": {
            "image/png": "[encoded data removed]",
            "text/plain": [
              "<Figure size 432x288 with 1 Axes>"
            ]
          },
          "metadata": {
            "tags": []
          }
        }
      ]
    },
    {
      "cell_type": "markdown",
      "metadata": {
        "id": "KfkeDMGapsZi",
        "colab_type": "text"
      },
      "source": [
        "**Observations:**\n",
        "Using Matplotlib, the data from the datasets can also be plotted with the axes representing any of the columns of the datasets.\n",
        "The above graph represents total bedrooms in the city against median of house price in the city. The picture depicts a very complex or no relationship between both the parameters.\n",
        "\n"
      ]
    },
    {
      "cell_type": "code",
      "metadata": {
        "id": "wEjWc0QDSiDY",
        "colab_type": "code",
        "colab": {
          "base_uri": "https://localhost:8080/",
          "height": 293
        },
        "outputId": "c723cb94-4c91-47d8-865d-7c46cf68c716"
      },
      "source": [
        "fig  = plt.figure()\n",
        "axes1 = fig.add_axes([0.2,0.1,0.4, 0.8])\n",
        "axes2 = fig.add_axes([0.8, 0.1, 0.4, 0.8 ])\n",
        "axes1.plot(x,y)\n",
        "axes2.plot(y,x)"
      ],
      "execution_count": 27,
      "outputs": [
        {
          "output_type": "execute_result",
          "data": {
            "text/plain": [
              "[<matplotlib.lines.Line2D at 0x7ffb53a2d2e8>]"
            ]
          },
          "metadata": {
            "tags": []
          },
          "execution_count": 27
        },
        {
          "output_type": "display_data",
          "data": {
            "image/png": "[encoded data removed]",
            "text/plain": [
              "<Figure size 432x288 with 2 Axes>"
            ]
          },
          "metadata": {
            "tags": []
          }
        }
      ]
    },
    {
      "cell_type": "markdown",
      "metadata": {
        "id": "xTwAtfDJqTrZ",
        "colab_type": "text"
      },
      "source": [
        "Two plots can also be  plotted in a row by using the above code."
      ]
    },
    {
      "cell_type": "markdown",
      "metadata": {
        "id": "4OUGVpcvYjXq",
        "colab_type": "text"
      },
      "source": [
        "Modifying Figure Size"
      ]
    },
    {
      "cell_type": "code",
      "metadata": {
        "id": "Opn_kBjAWaA0",
        "colab_type": "code",
        "colab": {
          "base_uri": "https://localhost:8080/",
          "height": 293
        },
        "outputId": "8c7b878a-23c5-4a9a-a46a-71f5085e58cc"
      },
      "source": [
        "fig  =plt.figure(figsize  = (8,4))\n",
        "fig1  = fig.add_axes([0.2, 0.2 , 0.8, 0.8])\n",
        "fig1.plot(x,y , label = 'X versus Y')\n",
        "fig1.plot(y,x , label = 'Y versus X')\n",
        "fig1.legend()"
      ],
      "execution_count": 72,
      "outputs": [
        {
          "output_type": "execute_result",
          "data": {
            "text/plain": [
              "<matplotlib.legend.Legend at 0x7ffb53bc3160>"
            ]
          },
          "metadata": {
            "tags": []
          },
          "execution_count": 72
        },
        {
          "output_type": "display_data",
          "data": {
            "image/png": "[encoded data removed]",
            "text/plain": [
              "<Figure size 576x288 with 1 Axes>"
            ]
          },
          "metadata": {
            "tags": []
          }
        }
      ]
    },
    {
      "cell_type": "markdown",
      "metadata": {
        "id": "BNII5H3Fqf5d",
        "colab_type": "text"
      },
      "source": [
        "The above picture consists of 2 plots (X versus Y and Y versus X).\n",
        "The legend dpecifies the two different plots."
      ]
    },
    {
      "cell_type": "markdown",
      "metadata": {
        "id": "YEWKvo7QrHPo",
        "colab_type": "text"
      },
      "source": [
        "**Conclusion:**\n",
        "\n",
        "In the above lab, we used the funnction of the Libraries Pandas as Matplotlib and demonstrates the functions of the libraries. Pandas can be extenively used to import the datasets, preprocess the data and cleas data before it could be used for any specific purpose. Also Matplotlib libraries can be used to visualize the data which in order can be used to find patterns and relationships among the attributes of the datasets."
      ]
    },
    {
      "cell_type": "code",
      "metadata": {
        "id": "2MmIzdOsYuzW",
        "colab_type": "code",
        "colab": {}
      },
      "source": [
        ""
      ],
      "execution_count": 0,
      "outputs": []
    }
  ]
}